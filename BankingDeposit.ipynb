{
 "cells": [
  {
   "cell_type": "markdown",
   "metadata": {},
   "source": [
    "# Banking Term Deposit Subscription\n",
    "\n",
    "\n",
    "\n",
    "### Table of contents\n",
    "\n",
    "1. [Problem Statement](#introduction)\n",
    "2. [Data](#data)\n",
    "\t- 2.1 [Description of Data features](#datafeatures)\n",
    "\t- 2.2 [Exploratory Data Analysis](#eda)\n",
    "\t- 2.3 [Create dummy variables for Catagorical features](#dummy)\n",
    "3. [Modeling](#modeling)\n",
    "\t- 3.1 [Create test and training set](#testandtrain)\n",
    "\t- 3.2 [Null Accuracy](#null)\n",
    "\t- 3.3 [Evaluation Metrics](#evaluation)\n",
    "\t- 3.4 [Sampling and Fitting models](#sampling)\n",
    "\t\t- 3.4.1 [Fitting Classifiers with default Hyperparameters and Stratified Fold K=10](#default)\n",
    "\t\t- 3.4.2 [Random Over Sampling (ROS)](#ROS)\n",
    "\t\t- 3.4.3 [Synthetic Minority Oversampling Technique (SMOTE)](#SMOTE)\n",
    "\t\t- 3.4.4 [Random Under Sampling (RUS)](#RUS)\n",
    "\t- 3.5 [Feature Selection and Hyper Parameters Tuning](#featureslection)\n",
    "\t\t- 3.5.1 [Optimal Feature Count and Chi-Squared Feature Selection ](#featureslection1)\n",
    "\t\t- 3.5.2 [Hyperparameter Tuning](#featureslection2)\n",
    "\t\t- 3.5.3 [Fitting Models on Selected Hyper Params and Feature importance evaluation](#featureslection3)\n",
    "\t- 3.6 [Evaluating Model Performance](#performance)\n",
    "4. [Conclusion](#conclusion)\n",
    "5. [References](#reference)"
   ]
  },
  {
   "cell_type": "markdown",
   "metadata": {},
   "source": [
    "<div class=\"alert alert-info\"><h3>\n",
    "Problem Statement<a class=\"anchor\" id=\"introduction\"></a>\n",
    "</h3></div>\n",
    "\n",
    "A common method to solicit bank deposit subscriptions in the banking industry is to call a prospective client with an offer of attractive interest rates through directed marketing campaigns. In order to conduct an efficient marketing campaign, contacts are targeted to achieve a successful result, which is a deposit subscription in this case. Here I describe the development and identification of a model that can explain the odds of success based on several explanatory variables related to each contact. Two classifiers, Random Forest and Logistic regression are compared in terms of accuracy. If the classifier has high accuracy, the banks can arrange a better management of available resources by focusing on the potential customers “picked” by the classifier, which will improve their efficiency a lot.[3]  "
   ]
  },
  {
   "cell_type": "code",
   "execution_count": 1,
   "metadata": {},
   "outputs": [],
   "source": [
    "# import the machinelearning toolkit\n",
    "from Death2GridSearch import *\n",
    "\n",
    "#imports\n",
    "import pandas as pd\n",
    "import numpy as np\n",
    "import pickle\n",
    "\n",
    "#plotting\n",
    "from matplotlib import pyplot as plt\n",
    "import seaborn as sns\n",
    "%matplotlib inline\n",
    "\n",
    "#Machine learning\n",
    "from sklearn import linear_model\n",
    "from sklearn.model_selection import train_test_split\n",
    "from sklearn.metrics import mean_squared_error, r2_score\n",
    "from sklearn.metrics import accuracy_score\n",
    "from sklearn.linear_model import LogisticRegression\n",
    "from sklearn import metrics as mt\n",
    "from sklearn.model_selection import ShuffleSplit\n",
    "from sklearn.metrics import log_loss\n",
    "from sklearn.metrics import roc_auc_score\n",
    "from sklearn.svm import SVC\n",
    "from sklearn.model_selection import cross_val_score\n",
    "from sklearn.model_selection import StratifiedKFold\n",
    "from sklearn.model_selection import KFold\n",
    "from sklearn.metrics import roc_curve, auc\n",
    "from sklearn.metrics import confusion_matrix\n",
    "from sklearn.ensemble  import RandomForestClassifier\n",
    "from sklearn.neighbors import KNeighborsClassifier\n",
    "from sklearn.neighbors import KNeighborsRegressor\n",
    "\n",
    "#ignore warnings\n",
    "import warnings\n",
    "warnings.filterwarnings(\"ignore\")\n",
    "\n",
    "from mlxtend.plotting import plot_learning_curves\n",
    "from mlxtend.plotting import plot_decision_regions\n",
    "\n",
    "seed =100"
   ]
  },
  {
   "cell_type": "markdown",
   "metadata": {},
   "source": [
    "<div class=\"alert alert-info\"><h3>\n",
    "Data<a class=\"anchor\" id=\"data\"></a>\n",
    "</h3></div>\n",
    "\n",
    "\n",
    "Data used in this analysis was collected from a Portuguese marketing campaign related with bank deposit subscription for 45211 clients and 20 features, and the response is whether the client has subscribed a term deposit. The data set is downloaded from http://archive.ics.uci.edu/ml/datasets/Bank+Marketing"
   ]
  },
  {
   "cell_type": "code",
   "execution_count": 2,
   "metadata": {},
   "outputs": [
    {
     "data": {
      "text/html": [
       "<div>\n",
       "<style scoped>\n",
       "    .dataframe tbody tr th:only-of-type {\n",
       "        vertical-align: middle;\n",
       "    }\n",
       "\n",
       "    .dataframe tbody tr th {\n",
       "        vertical-align: top;\n",
       "    }\n",
       "\n",
       "    .dataframe thead th {\n",
       "        text-align: right;\n",
       "    }\n",
       "</style>\n",
       "<table border=\"1\" class=\"dataframe\">\n",
       "  <thead>\n",
       "    <tr style=\"text-align: right;\">\n",
       "      <th></th>\n",
       "      <th>age</th>\n",
       "      <th>job</th>\n",
       "      <th>marital</th>\n",
       "      <th>education</th>\n",
       "      <th>default</th>\n",
       "      <th>balance</th>\n",
       "      <th>housing</th>\n",
       "      <th>loan</th>\n",
       "      <th>contact</th>\n",
       "      <th>day</th>\n",
       "      <th>month</th>\n",
       "      <th>duration</th>\n",
       "      <th>campaign</th>\n",
       "      <th>pdays</th>\n",
       "      <th>previous</th>\n",
       "      <th>poutcome</th>\n",
       "      <th>Subscribed</th>\n",
       "      <th>Age_Group</th>\n",
       "      <th>Quarter</th>\n",
       "    </tr>\n",
       "  </thead>\n",
       "  <tbody>\n",
       "    <tr>\n",
       "      <th>0</th>\n",
       "      <td>58</td>\n",
       "      <td>management</td>\n",
       "      <td>married</td>\n",
       "      <td>tertiary</td>\n",
       "      <td>no</td>\n",
       "      <td>2143</td>\n",
       "      <td>yes</td>\n",
       "      <td>no</td>\n",
       "      <td>unknown</td>\n",
       "      <td>5</td>\n",
       "      <td>may</td>\n",
       "      <td>261</td>\n",
       "      <td>1</td>\n",
       "      <td>-1</td>\n",
       "      <td>0</td>\n",
       "      <td>unknown</td>\n",
       "      <td>0</td>\n",
       "      <td>46-64</td>\n",
       "      <td>Q2</td>\n",
       "    </tr>\n",
       "    <tr>\n",
       "      <th>1</th>\n",
       "      <td>44</td>\n",
       "      <td>technician</td>\n",
       "      <td>single</td>\n",
       "      <td>secondary</td>\n",
       "      <td>no</td>\n",
       "      <td>29</td>\n",
       "      <td>yes</td>\n",
       "      <td>no</td>\n",
       "      <td>unknown</td>\n",
       "      <td>5</td>\n",
       "      <td>may</td>\n",
       "      <td>151</td>\n",
       "      <td>1</td>\n",
       "      <td>-1</td>\n",
       "      <td>0</td>\n",
       "      <td>unknown</td>\n",
       "      <td>0</td>\n",
       "      <td>31-45</td>\n",
       "      <td>Q2</td>\n",
       "    </tr>\n",
       "  </tbody>\n",
       "</table>\n",
       "</div>"
      ],
      "text/plain": [
       "   age         job  marital  education default  balance housing loan  contact  \\\n",
       "0   58  management  married   tertiary      no     2143     yes   no  unknown   \n",
       "1   44  technician   single  secondary      no       29     yes   no  unknown   \n",
       "\n",
       "   day month  duration  campaign  pdays  previous poutcome  Subscribed  \\\n",
       "0    5   may       261         1     -1         0  unknown           0   \n",
       "1    5   may       151         1     -1         0  unknown           0   \n",
       "\n",
       "  Age_Group Quarter  \n",
       "0     46-64      Q2  \n",
       "1     31-45      Q2  "
      ]
     },
     "execution_count": 2,
     "metadata": {},
     "output_type": "execute_result"
    }
   ],
   "source": [
    "#load Data\n",
    "data = pd.read_csv('data/modeling.csv')\n",
    "data.head(2)"
   ]
  },
  {
   "cell_type": "markdown",
   "metadata": {},
   "source": [
    "**Description of Data features**<a class=\"anchor\" id=\"datafeatures\"></a>\n",
    "\n",
    "|# | Feature |What is it? |Type|Example|Comments if any|\n",
    "|------|------|------|-------|------|------|\n",
    "|   1  | age| How old|numeric| 20||\n",
    "|   2  | job|type of job| categorical| admin.,unknown,unemployed,management,...,services||\n",
    "|   3  | marital| marital status|categorical| married,divorced,single|divorced means divorced or widowed|\n",
    "|   4  | education| Level of schooling|categorical| unknown,secondary,primary,tertiary||\n",
    "|   5  | default|  has credit in default? |binary| yes, no||\n",
    "|   6  | balance| average yearly balance, in euros|numeric| 2143||\n",
    "|   7  | housing| is the housing on loan?|binary| yes, no||\n",
    "|   8  | loan| has personal loan?|binary| yes, no|related with the last contact of the current campaign|\n",
    "|   9  | contact| contact communication type|categorical| unknown,telephone,cellular||\n",
    "|   10  | day| last contact day of the month|binary| yes, no||\n",
    "|   11  | month| last contact month of year|Categorical| jan, feb, mar, ..., nov, dec||\n",
    "|   12  | duration| last contact duration, in seconds|numeric| 23||\n",
    "|   13  | campaign| number of contacts performed during this campaign and for this client|numeric| 34|includes last contact|\n",
    "|   14  | pdays| number of days that passed by after the client was last contacted from a previous campaign |numeric| 1|-1 means client was not previously contacted|\n",
    "|   15  |previous| number of contacts performed before this campaign and for this client|numeric| 0||\n",
    "|   16  | poutcome| outcome of the previous marketing campaign|categorical| unknown,other,failure,success||\n",
    "|   17  |Subscribed| has the client subscribed a term deposit?| categorical|0, 1|Output variable (desired target), 0=no, 1=yes|\n",
    "|   18  |Age_group| age binning| categorical|46-64|Engineered feature from age|\n",
    "|   19  |Quarter| Quarter of the year| categorical|Q1, Q2, Q3, Q4|Engineered feature from month|\n"
   ]
  },
  {
   "cell_type": "code",
   "execution_count": 3,
   "metadata": {},
   "outputs": [
    {
     "name": "stdout",
     "output_type": "stream",
     "text": [
      "<class 'pandas.core.frame.DataFrame'>\n",
      "RangeIndex: 45211 entries, 0 to 45210\n",
      "Data columns (total 19 columns):\n",
      "age           45211 non-null int64\n",
      "job           45211 non-null object\n",
      "marital       45211 non-null object\n",
      "education     45211 non-null object\n",
      "default       45211 non-null object\n",
      "balance       45211 non-null int64\n",
      "housing       45211 non-null object\n",
      "loan          45211 non-null object\n",
      "contact       45211 non-null object\n",
      "day           45211 non-null int64\n",
      "month         45211 non-null object\n",
      "duration      45211 non-null int64\n",
      "campaign      45211 non-null int64\n",
      "pdays         45211 non-null int64\n",
      "previous      45211 non-null int64\n",
      "poutcome      45211 non-null object\n",
      "Subscribed    45211 non-null int64\n",
      "Age_Group     45211 non-null object\n",
      "Quarter       45211 non-null object\n",
      "dtypes: int64(8), object(11)\n",
      "memory usage: 6.6+ MB\n"
     ]
    }
   ],
   "source": [
    "data.info()"
   ]
  },
  {
   "cell_type": "markdown",
   "metadata": {},
   "source": [
    "**Exploratory Data Analysis** <a class=\"anchor\" id=\"eda\"></a>"
   ]
  },
  {
   "cell_type": "markdown",
   "metadata": {},
   "source": [
    "This study included the examination of various methods of exploratory data analysis including summary statistics, frequency tables, scatter plots, boxplots and histogram distributions by individual or paired explanatory factors that are highlighted by the “Subscribed” response factor.  This provides a visual initial understanding of each factors relationship to the subscription response variable. A detail exporatory analysis is done on a separate notebook ``(ExploratoryDataAnalysis.ipynb)``\n",
    "\n",
    "Here, there are three factors of interest explored from the training data set used in the final model that we discuss. The code block that follows in **R**"
   ]
  },
  {
   "cell_type": "code",
   "execution_count": 1,
   "metadata": {},
   "outputs": [],
   "source": [
    "#load the required packages\n",
    "pacman::p_load(pacman, dplyr, ggplot2,plotrix, ggpubr, readr, scales,gridExtra, formattable, repr,ggcorrplot)"
   ]
  },
  {
   "cell_type": "code",
   "execution_count": 13,
   "metadata": {},
   "outputs": [
    {
     "data": {
      "text/html": [
       "<ol class=list-inline>\n",
       "\t<li>45211</li>\n",
       "\t<li>19</li>\n",
       "</ol>\n"
      ],
      "text/latex": [
       "\\begin{enumerate*}\n",
       "\\item 45211\n",
       "\\item 19\n",
       "\\end{enumerate*}\n"
      ],
      "text/markdown": [
       "1. 45211\n",
       "2. 19\n",
       "\n",
       "\n"
      ],
      "text/plain": [
       "[1] 45211    19"
      ]
     },
     "metadata": {},
     "output_type": "display_data"
    }
   ],
   "source": [
    "# load data\n",
    "data<-read.table('data/modeling.csv', sep =\",\", header = TRUE)\n",
    "\n",
    "dim(data)"
   ]
  },
  {
   "cell_type": "code",
   "execution_count": 16,
   "metadata": {},
   "outputs": [
    {
     "name": "stdout",
     "output_type": "stream",
     "text": [
      "'data.frame':\t45211 obs. of  19 variables:\n",
      " $ age       : int  58 44 33 47 33 35 28 42 58 43 ...\n",
      " $ job       : Factor w/ 12 levels \"admin.\",\"blue-collar\",..: 5 10 3 2 12 5 5 3 6 10 ...\n",
      " $ marital   : Factor w/ 3 levels \"divorced\",\"married\",..: 2 3 2 2 3 2 3 1 2 3 ...\n",
      " $ education : Factor w/ 4 levels \"primary\",\"secondary\",..: 3 2 2 4 4 3 3 3 1 2 ...\n",
      " $ default   : Factor w/ 2 levels \"no\",\"yes\": 1 1 1 1 1 1 1 2 1 1 ...\n",
      " $ balance   : int  2143 29 2 1506 1 231 447 2 121 593 ...\n",
      " $ housing   : Factor w/ 2 levels \"no\",\"yes\": 2 2 2 2 1 2 2 2 2 2 ...\n",
      " $ loan      : Factor w/ 2 levels \"no\",\"yes\": 1 1 2 1 1 1 2 1 1 1 ...\n",
      " $ contact   : Factor w/ 3 levels \"cellular\",\"telephone\",..: 3 3 3 3 3 3 3 3 3 3 ...\n",
      " $ day       : int  5 5 5 5 5 5 5 5 5 5 ...\n",
      " $ month     : Factor w/ 12 levels \"apr\",\"aug\",\"dec\",..: 9 9 9 9 9 9 9 9 9 9 ...\n",
      " $ duration  : int  261 151 76 92 198 139 217 380 50 55 ...\n",
      " $ campaign  : int  1 1 1 1 1 1 1 1 1 1 ...\n",
      " $ pdays     : int  -1 -1 -1 -1 -1 -1 -1 -1 -1 -1 ...\n",
      " $ previous  : int  0 0 0 0 0 0 0 0 0 0 ...\n",
      " $ poutcome  : Factor w/ 4 levels \"failure\",\"other\",..: 4 4 4 4 4 4 4 4 4 4 ...\n",
      " $ Subscribed: int  0 0 0 0 0 0 0 0 0 0 ...\n",
      " $ Age_Group : Factor w/ 5 levels \"<20\",\"20-30\",..: 4 3 3 4 3 3 2 3 4 3 ...\n",
      " $ Quarter   : Factor w/ 4 levels \"Q1\",\"Q2\",\"Q3\",..: 2 2 2 2 2 2 2 2 2 2 ...\n"
     ]
    }
   ],
   "source": [
    "str(data)\n",
    "data$Subscribed<-as.factor(data$Subscribed)# convert the Subscribed column to factors"
   ]
  },
  {
   "cell_type": "markdown",
   "metadata": {},
   "source": [
    "#### Subsciption by month"
   ]
  },
  {
   "cell_type": "code",
   "execution_count": 158,
   "metadata": {},
   "outputs": [
    {
     "data": {},
     "metadata": {},
     "output_type": "display_data"
    },
    {
     "data": {
      "image/png": "[encoded data removed]",
      "text/plain": [
       "plot without title"
      ]
     },
     "metadata": {},
     "output_type": "display_data"
    }
   ],
   "source": [
    "#subscription by Quarter\n",
    "options(repr.plot.width=10, repr.plot.height=5)\n",
    "month = factor(data$month , levels = month.abb)\n",
    "#print(month)\n",
    "A<-ggplot(data, aes(x=month,fill=Subscribed)) +\n",
    "  geom_bar(position = \"dodge\")+stat_count(mapping=aes(x=month,y=..prop..))+labs(title = \"Subscription by Quarter\")# + coord_flip()\n",
    "\n",
    "A <-A + theme_pubr(legend = \"right\") + border(\"gray48\") + labs_pubr() + rotate_x_text(90)\n",
    "A"
   ]
  },
  {
   "cell_type": "code",
   "execution_count": 162,
   "metadata": {},
   "outputs": [
    {
     "data": {},
     "metadata": {},
     "output_type": "display_data"
    },
    {
     "data": {
      "image/png": "[encoded data removed]",
      "text/plain": [
       "plot without title"
      ]
     },
     "metadata": {},
     "output_type": "display_data"
    }
   ],
   "source": [
    "options(repr.plot.width=10, repr.plot.height=5)\n",
    "q =ggplot(data, aes(job, fill=Subscribed))+ geom_bar(position=\"fill\")+labs(title = \"Subscription by Job\")+\n",
    "geom_hline(yintercept = .10)\n",
    "\n",
    "q <-q + theme_pubr(legend = \"right\") + border(\"gray48\") + labs_pubr() + rotate_x_text(90)\n",
    "ggpar(q, font.legend = 16)"
   ]
  },
  {
   "cell_type": "markdown",
   "metadata": {},
   "source": [
    "visualized ad-hoc A/B test shows that job type is an important variable in deciding the subscription for term deposit. "
   ]
  },
  {
   "cell_type": "markdown",
   "metadata": {},
   "source": [
    "### Contact Duration"
   ]
  },
  {
   "cell_type": "code",
   "execution_count": 31,
   "metadata": {},
   "outputs": [],
   "source": [
    "A = data%>%\n",
    "    select(duration, Subscribed)%>%\n",
    "    group_by(Subscribed)%>%\n",
    "    summarise(Contact_Duration_avg =mean(duration),\n",
    "             Contact_Duration_median = median(duration))"
   ]
  },
  {
   "cell_type": "code",
   "execution_count": 154,
   "metadata": {},
   "outputs": [
    {
     "data": {
      "image/png": "[encoded data removed]",
      "text/plain": [
       "plot without title"
      ]
     },
     "metadata": {},
     "output_type": "display_data"
    }
   ],
   "source": [
    "options(repr.plot.width=10, repr.plot.height=8)\n",
    "avgduration <-mean(data$duration)\n",
    "mean_d <- data.frame( x = c(-Inf, Inf), y = avgduration, mean_d = factor(avgduration) )\n",
    "\n",
    "B =ggplot(data, aes(y =duration, x = Subscribed, fill = Subscribed)) +\n",
    "  geom_boxplot()+ theme_light()+labs(title=\" Subscribed vs Contact Duration\", y = \"duration in seconds\")+\n",
    "  theme(plot.title = element_text(hjust = 0.5))+\n",
    "  geom_hline(yintercept = avgduration, colour=\"red\", linetype=\"dashed\", size=1) +\n",
    "  annotate(\"text\", 2.45, avgduration+90, label = paste0(\"Avg=\", round(avgduration, 1)), color =\"black\" )\n",
    "B <-B + theme_pubr(legend = \"right\") + border(\"gray48\") + labs_pubr() + rotate_x_text(90)\n",
    "\n",
    "\n",
    "\n",
    "grid.arrange(B, tableGrob(A), ncol=1)"
   ]
  },
  {
   "cell_type": "markdown",
   "metadata": {},
   "source": [
    "The dashed red-line shows the mean for the entire training data set (258 sec).  Contact duration for the group of clients `Subscribed` (**1**) to the term deposit is higher than that for the group `not Subscribed` (**0**). Note  greater than 400 seconds has a higher likelihood of a yes to the subscription.  "
   ]
  },
  {
   "cell_type": "code",
   "execution_count": 115,
   "metadata": {},
   "outputs": [
    {
     "data": {
      "text/html": [
       "<table>\n",
       "<thead><tr><th scope=col>Subscribed</th><th scope=col>marital</th><th scope=col>job</th><th scope=col>duration</th><th scope=col>Count</th><th scope=col>balance</th></tr></thead>\n",
       "<tbody>\n",
       "\t<tr><td>0           </td><td>divorced    </td><td>admin.      </td><td>160.5       </td><td>660         </td><td>295.0       </td></tr>\n",
       "\t<tr><td>0           </td><td>divorced    </td><td>blue-collar </td><td>172.5       </td><td>692         </td><td>219.5       </td></tr>\n",
       "\t<tr><td>0           </td><td>divorced    </td><td>entrepreneur</td><td>169.5       </td><td>164         </td><td>287.5       </td></tr>\n",
       "\t<tr><td>0           </td><td>divorced    </td><td>housemaid   </td><td>145.0       </td><td>166         </td><td>367.0       </td></tr>\n",
       "\t<tr><td>0           </td><td>divorced    </td><td>management  </td><td>147.0       </td><td>969         </td><td>350.0       </td></tr>\n",
       "\t<tr><td>0           </td><td>divorced    </td><td>retired     </td><td>186.5       </td><td>304         </td><td>478.0       </td></tr>\n",
       "</tbody>\n",
       "</table>\n"
      ],
      "text/latex": [
       "\\begin{tabular}{r|llllll}\n",
       " Subscribed & marital & job & duration & Count & balance\\\\\n",
       "\\hline\n",
       "\t 0            & divorced     & admin.       & 160.5        & 660          & 295.0       \\\\\n",
       "\t 0            & divorced     & blue-collar  & 172.5        & 692          & 219.5       \\\\\n",
       "\t 0            & divorced     & entrepreneur & 169.5        & 164          & 287.5       \\\\\n",
       "\t 0            & divorced     & housemaid    & 145.0        & 166          & 367.0       \\\\\n",
       "\t 0            & divorced     & management   & 147.0        & 969          & 350.0       \\\\\n",
       "\t 0            & divorced     & retired      & 186.5        & 304          & 478.0       \\\\\n",
       "\\end{tabular}\n"
      ],
      "text/markdown": [
       "\n",
       "Subscribed | marital | job | duration | Count | balance | \n",
       "|---|---|---|---|---|---|\n",
       "| 0            | divorced     | admin.       | 160.5        | 660          | 295.0        | \n",
       "| 0            | divorced     | blue-collar  | 172.5        | 692          | 219.5        | \n",
       "| 0            | divorced     | entrepreneur | 169.5        | 164          | 287.5        | \n",
       "| 0            | divorced     | housemaid    | 145.0        | 166          | 367.0        | \n",
       "| 0            | divorced     | management   | 147.0        | 969          | 350.0        | \n",
       "| 0            | divorced     | retired      | 186.5        | 304          | 478.0        | \n",
       "\n",
       "\n"
      ],
      "text/plain": [
       "  Subscribed marital  job          duration Count balance\n",
       "1 0          divorced admin.       160.5    660   295.0  \n",
       "2 0          divorced blue-collar  172.5    692   219.5  \n",
       "3 0          divorced entrepreneur 169.5    164   287.5  \n",
       "4 0          divorced housemaid    145.0    166   367.0  \n",
       "5 0          divorced management   147.0    969   350.0  \n",
       "6 0          divorced retired      186.5    304   478.0  "
      ]
     },
     "metadata": {},
     "output_type": "display_data"
    }
   ],
   "source": [
    "summary1<-data%>%\n",
    "select(Subscribed,Quarter,Subscribed,education,job,marital, balance, duration)%>%\n",
    "group_by(Subscribed,marital,job)%>%\n",
    "summarise(duration=median(duration),\n",
    "          Count  =n(),\n",
    "         balance =median(balance))\n",
    "head(summary1)"
   ]
  },
  {
   "cell_type": "code",
   "execution_count": 166,
   "metadata": {},
   "outputs": [
    {
     "data": {},
     "metadata": {},
     "output_type": "display_data"
    },
    {
     "data": {
      "image/png": "[encoded data removed]",
      "text/plain": [
       "plot without title"
      ]
     },
     "metadata": {},
     "output_type": "display_data"
    }
   ],
   "source": [
    "options(repr.plot.width=12, repr.plot.height=5)\n",
    "q<-ggplot(summary1, aes(job,marital, fill = duration)) + \n",
    "  geom_tile(colour = \"white\") + \n",
    "  facet_grid(~Subscribed)+ \n",
    "  scale_fill_gradient(low=\"red\", high=\"green\")+\n",
    "theme(axis.text.x = element_text(angle = 90, hjust = 1))\n",
    "\n",
    "q <-q + theme_pubr(legend = \"right\") + border(\"gray48\") + labs_pubr() + rotate_x_text(90)\n",
    "\n",
    "q <- ggpar(q, font.legend = 16)\n",
    "\n",
    "q +  font(\"title\", size = 14, color = \"red\", face = \"bold.italic\")+\n",
    " font(\"caption\", size = 10, color = \"orange\")+\n",
    " font(\"xlab\", size = 16, color = \"blue\")+\n",
    " font(\"ylab\", size = 16, color = \"#993333\")+\n",
    " font(\"x.text\", size = 14, color = \"blue\", face = \"bold\") +\n",
    " font(\"y.text\", size = 16, color = \"#993333\", face = \"bold\")"
   ]
  },
  {
   "cell_type": "markdown",
   "metadata": {},
   "source": [
    "The heat map above visually indicates that call duration is critical for term Subscription. The subscirbed clients tended to have longer call durations"
   ]
  },
  {
   "cell_type": "markdown",
   "metadata": {},
   "source": [
    "**Create dummy variables for Catagorical features**<a class=\"anchor\" id=\"dummy\"></a>"
   ]
  },
  {
   "cell_type": "code",
   "execution_count": 6,
   "metadata": {},
   "outputs": [
    {
     "name": "stdout",
     "output_type": "stream",
     "text": [
      "Index(['job', 'marital', 'education', 'default', 'housing', 'loan', 'contact',\n",
      "       'poutcome', 'Age_Group', 'Quarter'],\n",
      "      dtype='object')\n",
      "['Subscribed']\n",
      "CPU times: user 170 ms, sys: 17.9 ms, total: 188 ms\n",
      "Wall time: 187 ms\n"
     ]
    }
   ],
   "source": [
    "%%time\n",
    "def dummy_Create(df, reponse_var):\n",
    "    '''\n",
    "    Function to create dummy variables for catagorical features\n",
    "    \n",
    "    df = dataframe\n",
    "    response_var = respose variable \n",
    "    '''\n",
    "    \n",
    "    rawData = df.copy()\n",
    "    SchoolDataCat = rawData.loc[:,(rawData.dtypes == object) |(rawData.dtypes == 'category')|(rawData.dtypes == bool)]\n",
    "    \n",
    "    \n",
    "    print(SchoolDataCat.columns)\n",
    "    cat_vars=SchoolDataCat.columns\n",
    "    for var in cat_vars:\n",
    "        cat_list='var'+'_'+var\n",
    "        cat_list = pd.get_dummies(rawData[var], prefix=var)\n",
    "        df=pd.concat([df,cat_list], axis=1)\n",
    "    data=df\n",
    "    cat_vars=SchoolDataCat.columns\n",
    "    data_vars=data.columns.values.tolist()\n",
    "    \n",
    "    to_keep=[i for i in data_vars if i not in cat_vars]\n",
    "\n",
    "    ## Final data columns\n",
    "    data_final=data[to_keep]\n",
    "    data_final.columns.values\n",
    "    data_final_vars=data_final.columns.values.tolist()\n",
    "    #return(SchoolDataCat)\n",
    "    y=[reponse_var]\n",
    "    X=[i for i in data_final_vars if i not in y]\n",
    " \n",
    "    list(data_final_vars)\n",
    "    print(y)\n",
    "    #print(X)\n",
    "    SchoolDataCat.describe().T\n",
    "    return(data_final.abs())\n",
    "\n",
    "\n",
    "data_raw = data.copy()  #Make a copy of the data\n",
    "#drop features that we engineered new features from age and month\n",
    "data_raw = data_raw.drop(['age', 'month'], axis=1)\n",
    "\n",
    "\n",
    "modelingdata = dummy_Create(data_raw, 'Subscribed')\n"
   ]
  },
  {
   "cell_type": "code",
   "execution_count": 7,
   "metadata": {},
   "outputs": [
    {
     "data": {
      "text/html": [
       "<div>\n",
       "<style scoped>\n",
       "    .dataframe tbody tr th:only-of-type {\n",
       "        vertical-align: middle;\n",
       "    }\n",
       "\n",
       "    .dataframe tbody tr th {\n",
       "        vertical-align: top;\n",
       "    }\n",
       "\n",
       "    .dataframe thead th {\n",
       "        text-align: right;\n",
       "    }\n",
       "</style>\n",
       "<table border=\"1\" class=\"dataframe\">\n",
       "  <thead>\n",
       "    <tr style=\"text-align: right;\">\n",
       "      <th></th>\n",
       "      <th>balance</th>\n",
       "      <th>day</th>\n",
       "      <th>duration</th>\n",
       "      <th>campaign</th>\n",
       "      <th>pdays</th>\n",
       "      <th>previous</th>\n",
       "      <th>Subscribed</th>\n",
       "      <th>job_admin.</th>\n",
       "      <th>job_blue-collar</th>\n",
       "      <th>job_entrepreneur</th>\n",
       "      <th>...</th>\n",
       "      <th>poutcome_unknown</th>\n",
       "      <th>Age_Group_20-30</th>\n",
       "      <th>Age_Group_31-45</th>\n",
       "      <th>Age_Group_46-64</th>\n",
       "      <th>Age_Group_65+</th>\n",
       "      <th>Age_Group_&lt;20</th>\n",
       "      <th>Quarter_Q1</th>\n",
       "      <th>Quarter_Q2</th>\n",
       "      <th>Quarter_Q3</th>\n",
       "      <th>Quarter_Q4</th>\n",
       "    </tr>\n",
       "  </thead>\n",
       "  <tbody>\n",
       "    <tr>\n",
       "      <th>0</th>\n",
       "      <td>2143</td>\n",
       "      <td>5</td>\n",
       "      <td>261</td>\n",
       "      <td>1</td>\n",
       "      <td>1</td>\n",
       "      <td>0</td>\n",
       "      <td>0</td>\n",
       "      <td>0</td>\n",
       "      <td>0</td>\n",
       "      <td>0</td>\n",
       "      <td>...</td>\n",
       "      <td>1</td>\n",
       "      <td>0</td>\n",
       "      <td>0</td>\n",
       "      <td>1</td>\n",
       "      <td>0</td>\n",
       "      <td>0</td>\n",
       "      <td>0</td>\n",
       "      <td>1</td>\n",
       "      <td>0</td>\n",
       "      <td>0</td>\n",
       "    </tr>\n",
       "    <tr>\n",
       "      <th>1</th>\n",
       "      <td>29</td>\n",
       "      <td>5</td>\n",
       "      <td>151</td>\n",
       "      <td>1</td>\n",
       "      <td>1</td>\n",
       "      <td>0</td>\n",
       "      <td>0</td>\n",
       "      <td>0</td>\n",
       "      <td>0</td>\n",
       "      <td>0</td>\n",
       "      <td>...</td>\n",
       "      <td>1</td>\n",
       "      <td>0</td>\n",
       "      <td>1</td>\n",
       "      <td>0</td>\n",
       "      <td>0</td>\n",
       "      <td>0</td>\n",
       "      <td>0</td>\n",
       "      <td>1</td>\n",
       "      <td>0</td>\n",
       "      <td>0</td>\n",
       "    </tr>\n",
       "    <tr>\n",
       "      <th>2</th>\n",
       "      <td>2</td>\n",
       "      <td>5</td>\n",
       "      <td>76</td>\n",
       "      <td>1</td>\n",
       "      <td>1</td>\n",
       "      <td>0</td>\n",
       "      <td>0</td>\n",
       "      <td>0</td>\n",
       "      <td>0</td>\n",
       "      <td>1</td>\n",
       "      <td>...</td>\n",
       "      <td>1</td>\n",
       "      <td>0</td>\n",
       "      <td>1</td>\n",
       "      <td>0</td>\n",
       "      <td>0</td>\n",
       "      <td>0</td>\n",
       "      <td>0</td>\n",
       "      <td>1</td>\n",
       "      <td>0</td>\n",
       "      <td>0</td>\n",
       "    </tr>\n",
       "    <tr>\n",
       "      <th>3</th>\n",
       "      <td>1506</td>\n",
       "      <td>5</td>\n",
       "      <td>92</td>\n",
       "      <td>1</td>\n",
       "      <td>1</td>\n",
       "      <td>0</td>\n",
       "      <td>0</td>\n",
       "      <td>0</td>\n",
       "      <td>1</td>\n",
       "      <td>0</td>\n",
       "      <td>...</td>\n",
       "      <td>1</td>\n",
       "      <td>0</td>\n",
       "      <td>0</td>\n",
       "      <td>1</td>\n",
       "      <td>0</td>\n",
       "      <td>0</td>\n",
       "      <td>0</td>\n",
       "      <td>1</td>\n",
       "      <td>0</td>\n",
       "      <td>0</td>\n",
       "    </tr>\n",
       "    <tr>\n",
       "      <th>4</th>\n",
       "      <td>1</td>\n",
       "      <td>5</td>\n",
       "      <td>198</td>\n",
       "      <td>1</td>\n",
       "      <td>1</td>\n",
       "      <td>0</td>\n",
       "      <td>0</td>\n",
       "      <td>0</td>\n",
       "      <td>0</td>\n",
       "      <td>0</td>\n",
       "      <td>...</td>\n",
       "      <td>1</td>\n",
       "      <td>0</td>\n",
       "      <td>1</td>\n",
       "      <td>0</td>\n",
       "      <td>0</td>\n",
       "      <td>0</td>\n",
       "      <td>0</td>\n",
       "      <td>1</td>\n",
       "      <td>0</td>\n",
       "      <td>0</td>\n",
       "    </tr>\n",
       "  </tbody>\n",
       "</table>\n",
       "<p>5 rows × 48 columns</p>\n",
       "</div>"
      ],
      "text/plain": [
       "   balance  day  duration  campaign  pdays  previous  Subscribed  job_admin.  \\\n",
       "0     2143    5       261         1      1         0           0           0   \n",
       "1       29    5       151         1      1         0           0           0   \n",
       "2        2    5        76         1      1         0           0           0   \n",
       "3     1506    5        92         1      1         0           0           0   \n",
       "4        1    5       198         1      1         0           0           0   \n",
       "\n",
       "   job_blue-collar  job_entrepreneur     ...      poutcome_unknown  \\\n",
       "0                0                 0     ...                     1   \n",
       "1                0                 0     ...                     1   \n",
       "2                0                 1     ...                     1   \n",
       "3                1                 0     ...                     1   \n",
       "4                0                 0     ...                     1   \n",
       "\n",
       "   Age_Group_20-30  Age_Group_31-45  Age_Group_46-64  Age_Group_65+  \\\n",
       "0                0                0                1              0   \n",
       "1                0                1                0              0   \n",
       "2                0                1                0              0   \n",
       "3                0                0                1              0   \n",
       "4                0                1                0              0   \n",
       "\n",
       "   Age_Group_<20  Quarter_Q1  Quarter_Q2  Quarter_Q3  Quarter_Q4  \n",
       "0              0           0           1           0           0  \n",
       "1              0           0           1           0           0  \n",
       "2              0           0           1           0           0  \n",
       "3              0           0           1           0           0  \n",
       "4              0           0           1           0           0  \n",
       "\n",
       "[5 rows x 48 columns]"
      ]
     },
     "execution_count": 7,
     "metadata": {},
     "output_type": "execute_result"
    }
   ],
   "source": [
    "modelingdata.head()"
   ]
  },
  {
   "cell_type": "code",
   "execution_count": 8,
   "metadata": {},
   "outputs": [
    {
     "data": {
      "text/plain": [
       "(45211, 48)"
      ]
     },
     "execution_count": 8,
     "metadata": {},
     "output_type": "execute_result"
    }
   ],
   "source": [
    "modelingdata.shape"
   ]
  },
  {
   "cell_type": "markdown",
   "metadata": {},
   "source": [
    "<div class=\"alert alert-info\"><h3>\n",
    "Modeling<a class=\"anchor\" id=\"modeling\"></a>\n",
    "</h3></div>"
   ]
  },
  {
   "cell_type": "markdown",
   "metadata": {},
   "source": [
    "Below is a flow chart of modeling approach."
   ]
  },
  {
   "cell_type": "markdown",
   "metadata": {},
   "source": [
    "<img src=\"reference/dataSplitting.png\" width=\"600\" height=\"600\" />"
   ]
  },
  {
   "cell_type": "markdown",
   "metadata": {},
   "source": [
    "#### Create test and training set <a class=\"anchor\" id=\"testandtrain\"></a>\n",
    "\n",
    "Prior to construction of the model, a training and test data set were created by randomly splitting the data into 70 training and 30% test set. for reproduciblity a seed is used.  "
   ]
  },
  {
   "cell_type": "code",
   "execution_count": 11,
   "metadata": {},
   "outputs": [
    {
     "name": "stdout",
     "output_type": "stream",
     "text": [
      "X shape before \n",
      "(45211, 48)\n",
      "X shape after \n",
      "(45211, 47)\n",
      "Y shape after \n",
      "(45211,)\n",
      "CPU times: user 6.43 ms, sys: 1.81 ms, total: 8.24 ms\n",
      "Wall time: 7.23 ms\n"
     ]
    }
   ],
   "source": [
    "%%time\n",
    "#Create data = x\n",
    "Cls_X = modelingdata.copy()\n",
    "#create target = Y\n",
    "Cls_y = Cls_X.Subscribed\n",
    "print('X shape before ')\n",
    "print(Cls_X.shape)\n",
    "#drop the response column from the x dataset\n",
    "Cls_X.pop('Subscribed') # drop \n",
    "print('X shape after ')\n",
    "print(Cls_X.shape)\n",
    "print('Y shape after ')\n",
    "print(Cls_y.shape)"
   ]
  },
  {
   "cell_type": "markdown",
   "metadata": {},
   "source": [
    "above cell we split data to X and respose variable y (\"Subscribed\")"
   ]
  },
  {
   "cell_type": "markdown",
   "metadata": {},
   "source": [
    "***Using train_test_split to hold out 30% of data for testing.***"
   ]
  },
  {
   "cell_type": "code",
   "execution_count": 12,
   "metadata": {},
   "outputs": [
    {
     "name": "stdout",
     "output_type": "stream",
     "text": [
      "(31647, 47)\n",
      "(31647,)\n",
      "(13564, 47)\n",
      "(13564,)\n"
     ]
    }
   ],
   "source": [
    "#Split data to  into train and holding set.\n",
    "X_train,X_test,y_train,y_test = train_test_split(Cls_X, Cls_y, test_size = 0.3, random_state = seed)\n",
    "\n",
    "print(X_train.shape)\n",
    "print(y_train.shape)\n",
    "print(X_test.shape)\n",
    "print(y_test.shape)"
   ]
  },
  {
   "cell_type": "markdown",
   "metadata": {},
   "source": [
    "### Null accuracy<a class=\"anchor\" id=\"null\"></a>"
   ]
  },
  {
   "cell_type": "code",
   "execution_count": 13,
   "metadata": {},
   "outputs": [
    {
     "name": "stdout",
     "output_type": "stream",
     "text": [
      "our class distibution\n",
      "0    39922\n",
      "1     5289\n",
      "Name: Subscribed, dtype: int64\n",
      "Percentage of ones:  0.117\n",
      "Percentage of Zeros:  0.883\n",
      "\n",
      "##############################\n",
      "NULL Accuracy:  0.883\n",
      "##############################\n"
     ]
    }
   ],
   "source": [
    "# Explore distribuion of our class\n",
    "\n",
    "print(\"our class distibution\")\n",
    "print(Cls_y.value_counts())\n",
    "\n",
    "# calculate the percentage of ones\n",
    "print('Percentage of ones: ', round(Cls_y.mean(),4))\n",
    "\n",
    "# calculate the percentage of zeros\n",
    "print('Percentage of Zeros: ',round(1 - Cls_y.mean(),4))\n",
    "\n",
    "# calculate null accuracy \n",
    "print('')\n",
    "print('##############################')\n",
    "print('NULL Accuracy: ', max(round(Cls_y.mean(),4), round(1 - Cls_y.mean(),4)))\n",
    "print('##############################')\n"
   ]
  },
  {
   "cell_type": "markdown",
   "metadata": {},
   "source": [
    "For the code above we calculate a null accuracy of 88.3% on our whole dataset. That means that a dumb model that always predicts majority predictor in our case 0 would be right 88.3% of the time. When evaluating our model performance, we will be looking to ensure the they shows classification accuracy better than that of a dumb model. \n",
    "\n",
    "We are dealing with a very imbalance class as such some sampling will be needed to insure the minority class is included in the training set. The plan will be to use stratified k-fold and some form of sampling"
   ]
  },
  {
   "cell_type": "markdown",
   "metadata": {},
   "source": [
    "### Evaluation Metrics<a class=\"anchor\" id=\"evaluation\"></a>\n",
    "\n",
    "Precision, Recall(sensitivity/TPR), F1-score and accruacy are some metrics that can be calculated from the confusion matrix. \n",
    "\n",
    "- **Precision**: is how precise the classifier is in predicting the positive class. In other words, when the classifier predicted `yes` or `1` for a client being Subscribed for bank term deposit, how often was it right? This can be calculated from confusion matrix as TP/ (TP + FP). Low false positives lead to high precision. \n",
    "- **Recall**: is the ratio of correctly predicted positive observations to the all observations in actual class. In other words, when the actual value was `1`, how often did the classifier predict correctly. This is calculated from confusion matrix as TP/ (TP + FN). This is also known as True Positive Rate (TPR) or Sensitivity. That is, how sensitive the classifier is to detecting positive instances.\n",
    "- **F1-score**: is the harmonic mean of precision and recall. 2.(precision. recall)/ (precision + recall). This takes both FP and FN into account. Intuitively this is a bit difficult to understand and report to a wider audience.\n",
    "- **accuracy_score**: The most common metric for classification is accuracy, which is the fraction of samples predicted correctly. Accuracy is calculated as (TP + TN )/ (TP + FN + TN + FP)\n",
    "\n",
    "\n",
    "**Confusion Matrix**\n",
    "\n",
    "Let's now define the most basic terms, which are whole numbers (not rates):\n",
    "\n",
    "- **true positives (TP):** These are cases in which we predicted yes (Client is Subscribed to bank term deposit), and they are in deed Subscribed.\n",
    "- **true negatives (TN):** We predicted no, and they are not Subscribed.\n",
    "- **false positives (FP):** We predicted yes, but they are not Subscribed. (Also known as a \"Type I error.\")\n",
    "- **false negatives (FN):** We predicted no, but they are actually Subscribed. (Also known as a \"Type II error.\")\n",
    "\n",
    "Reference: https://www.dataschool.io/simple-guide-to-confusion-matrix-terminology/"
   ]
  },
  {
   "cell_type": "markdown",
   "metadata": {},
   "source": [
    "### Sampling and Fitting Models <a class=\"anchor\" id=\"evaluation\"></a>"
   ]
  },
  {
   "cell_type": "markdown",
   "metadata": {},
   "source": [
    "#### First model fitting using default Classifiers and Stratified Fold K=10<a class=\"anchor\" id=\"evaluation\"></a>"
   ]
  },
  {
   "cell_type": "code",
   "execution_count": 14,
   "metadata": {},
   "outputs": [
    {
     "data": {
      "text/plain": [
       "StratifiedKFold(n_splits=10, random_state=100, shuffle=False)"
      ]
     },
     "execution_count": 14,
     "metadata": {},
     "output_type": "execute_result"
    }
   ],
   "source": [
    "Classification_cv = StratifiedKFold(n_splits = 10, random_state = seed)\n",
    "Classification_cv"
   ]
  },
  {
   "cell_type": "markdown",
   "metadata": {},
   "source": [
    "Starting with `Logistic Regression` because of its simplicity and `Random Forest` because of it's superior performance."
   ]
  },
  {
   "cell_type": "code",
   "execution_count": 15,
   "metadata": {},
   "outputs": [
    {
     "name": "stdout",
     "output_type": "stream",
     "text": [
      "Training Accuracy Score : 0.8969570575409992\n",
      "CPU times: user 1.51 s, sys: 120 ms, total: 1.63 s\n",
      "Wall time: 4.57 s\n"
     ]
    }
   ],
   "source": [
    "%%time\n",
    "from sklearn.model_selection import GridSearchCV \n",
    "param_grid = {} \n",
    "rf_clf = RandomForestClassifier(n_jobs=2, random_state=seed) \n",
    "rf_clf_cv = GridSearchCV(rf_clf, param_grid, cv=Classification_cv, scoring ='accuracy' ) \n",
    "rf_clf_cv.fit(X_train, y_train) \n",
    "\n",
    "# predict and calculate auc on test data\n",
    "print('Training Accuracy Score :',rf_clf_cv.best_score_)"
   ]
  },
  {
   "cell_type": "code",
   "execution_count": 16,
   "metadata": {},
   "outputs": [
    {
     "name": "stdout",
     "output_type": "stream",
     "text": [
      "Training Accuracy Score : 0.9008120832938351\n",
      "CPU times: user 5.61 s, sys: 6.59 s, total: 12.2 s\n",
      "Wall time: 2.67 s\n"
     ]
    }
   ],
   "source": [
    "%%time\n",
    "param_grid = {} \n",
    "lr_clf = LogisticRegression(n_jobs=2, random_state=seed) \n",
    "lr_clf_cv = GridSearchCV(lr_clf, param_grid, cv=Classification_cv, scoring ='accuracy' ) \n",
    "lr_clf_cv.fit(X_train, y_train) \n",
    "\n",
    "# predict and calculate auc on test data\n",
    "print('Training Accuracy Score :',lr_clf_cv.best_score_)"
   ]
  },
  {
   "cell_type": "markdown",
   "metadata": {},
   "source": [
    "Good news, our 10 fold startified accuracy for both of our classifiers with default hyper params are greater than the the .88 null accuracy that we calculated above. "
   ]
  },
  {
   "cell_type": "markdown",
   "metadata": {},
   "source": [
    "\n",
    "\n",
    "As we saw previously, we are dealing with imbalanceed classes. Next we will check the effect of undersampling and over sampling\n",
    "\n",
    "#### Random Over Sampling<a class=\"anchor\" id=\"ROS\"></a>\n",
    "\n",
    "![title](data/oversampling.JPG)\n",
    "\n",
    "`Drawback`: TRaining on duplicated data"
   ]
  },
  {
   "cell_type": "code",
   "execution_count": 17,
   "metadata": {},
   "outputs": [],
   "source": [
    "from imblearn.over_sampling import RandomOverSampler\n",
    "method =  RandomOverSampler(random_state=100)\n",
    "X_ROS, y_ROS =method.fit_sample(X_train, y_train)"
   ]
  },
  {
   "cell_type": "code",
   "execution_count": 18,
   "metadata": {},
   "outputs": [
    {
     "name": "stdout",
     "output_type": "stream",
     "text": [
      "Training Accuracy Score : 0.9760711601102481\n",
      "CPU times: user 1.81 s, sys: 126 ms, total: 1.93 s\n",
      "Wall time: 5.12 s\n"
     ]
    }
   ],
   "source": [
    "%%time\n",
    "rf_clf = RandomForestClassifier(n_jobs=2, random_state=seed) \n",
    "rf_clf_cv = GridSearchCV(rf_clf, param_grid, cv=Classification_cv, scoring ='accuracy' ) \n",
    "rf_clf_cv.fit(X_ROS, y_ROS)\n",
    "\n",
    "# predict and calculate auc on test data\n",
    "print('Training Accuracy Score :',rf_clf_cv.best_score_)"
   ]
  },
  {
   "cell_type": "code",
   "execution_count": 19,
   "metadata": {},
   "outputs": [
    {
     "name": "stdout",
     "output_type": "stream",
     "text": [
      "Training Accuracy Score : 0.82335254322225\n",
      "CPU times: user 7.28 s, sys: 6.79 s, total: 14.1 s\n",
      "Wall time: 4.46 s\n"
     ]
    }
   ],
   "source": [
    "%%time\n",
    "param_grid = {} \n",
    "lr_clf = LogisticRegression(n_jobs=2, random_state=seed) \n",
    "lr_clf_cv = GridSearchCV(lr_clf, param_grid, cv=Classification_cv, scoring ='accuracy' ) \n",
    "lr_clf_cv.fit(X_ROS, y_ROS)\n",
    "\n",
    "# predict and calculate auc on test data\n",
    "print('Training Accuracy Score :',lr_clf_cv.best_score_)"
   ]
  },
  {
   "cell_type": "markdown",
   "metadata": {},
   "source": [
    "Over sampling significantly improves (~8%) the 10 Fold accuracy for the `Random Forest` Classifier but the acurracy for the `Logistic regression` Classifer degrades by ~8%. \n",
    "\n",
    "Random Over Sampling is simple but the model is trained on duplicated data thus we risk over fitting and bias in performance"
   ]
  },
  {
   "cell_type": "markdown",
   "metadata": {},
   "source": [
    "#### Synthetic Minority Oversampling Technique (SMOTE) <a class=\"anchor\" id=\"SMOTE\"></a>\n",
    "\n",
    "SMOTE uses characteristics of  KNN nearest neighbors of old cases to create new synthetic cases there by avoiding duplications which can result in overfitting. SMOTE is more sophisticated butthe training is on fake data. \n",
    "\n",
    "Reference: https://arxiv.org/pdf/1106.1813.pdf"
   ]
  },
  {
   "cell_type": "code",
   "execution_count": 20,
   "metadata": {},
   "outputs": [],
   "source": [
    "from imblearn.over_sampling import SMOTE\n",
    "method = SMOTE(random_state=100)\n",
    "X_SMOTE, y_SMOTE =method.fit_sample(X_train, y_train)"
   ]
  },
  {
   "cell_type": "code",
   "execution_count": 21,
   "metadata": {},
   "outputs": [
    {
     "name": "stdout",
     "output_type": "stream",
     "text": [
      "Training Accuracy Score : 0.9307370154275691\n",
      "CPU times: user 1.69 s, sys: 66.1 ms, total: 1.76 s\n",
      "Wall time: 5.02 s\n"
     ]
    }
   ],
   "source": [
    "%%time\n",
    "rf_clf = RandomForestClassifier(n_jobs=2, random_state=seed) \n",
    "rf_clf_cv = GridSearchCV(rf_clf, param_grid, cv=Classification_cv, scoring ='accuracy' ) \n",
    "rf_clf_cv.fit(X_SMOTE, y_SMOTE)\n",
    "\n",
    "# predict and calculate auc on test data\n",
    "print('Training Accuracy Score :',rf_clf_cv.best_score_)"
   ]
  },
  {
   "cell_type": "code",
   "execution_count": 22,
   "metadata": {},
   "outputs": [
    {
     "name": "stdout",
     "output_type": "stream",
     "text": [
      "Training Accuracy Score : 0.9293231198768658\n",
      "CPU times: user 7.96 s, sys: 6.78 s, total: 14.7 s\n",
      "Wall time: 5.13 s\n"
     ]
    }
   ],
   "source": [
    "%%time\n",
    "param_grid = {} \n",
    "lr_clf = LogisticRegression(n_jobs=2, random_state=seed) \n",
    "lr_clf_cv = GridSearchCV(lr_clf, param_grid, cv=Classification_cv, scoring ='accuracy' ) \n",
    "lr_clf_cv.fit(X_SMOTE, y_SMOTE)\n",
    "\n",
    "# predict and calculate auc on test data\n",
    "print('Training Accuracy Score :',lr_clf_cv.best_score_)"
   ]
  },
  {
   "cell_type": "markdown",
   "metadata": {},
   "source": [
    "SMOTE improves the 10 Fold accuracy for the `Random Forest` Classifier and `Logistic regression` Classifer by ~4%. SMOTE is more realistic that simple Random Over Sampling."
   ]
  },
  {
   "cell_type": "markdown",
   "metadata": {},
   "source": [
    "#### Random Under Sampling <a class=\"anchor\" id=\"RUS\"></a>\n",
    "\n",
    "![title](data/undersampling.JPG)\n",
    "\n",
    "`Drawback`: Throwing away a lot of good data"
   ]
  },
  {
   "cell_type": "code",
   "execution_count": 23,
   "metadata": {},
   "outputs": [],
   "source": [
    "from imblearn.under_sampling import RandomUnderSampler\n",
    "method = RandomUnderSampler(random_state=100)\n",
    "X_RUS, y_RUS =method.fit_sample(X_train, y_train)"
   ]
  },
  {
   "cell_type": "code",
   "execution_count": 24,
   "metadata": {},
   "outputs": [
    {
     "name": "stdout",
     "output_type": "stream",
     "text": [
      "Training Accuracy Score : 0.817654986522911\n",
      "CPU times: user 762 ms, sys: 59.7 ms, total: 822 ms\n",
      "Wall time: 2.88 s\n"
     ]
    }
   ],
   "source": [
    "%%time\n",
    "rf_clf = RandomForestClassifier(n_jobs=2, random_state=seed) \n",
    "rf_clf_cv = GridSearchCV(rf_clf, param_grid, cv=Classification_cv, scoring ='accuracy' ) \n",
    "rf_clf_cv.fit(X_RUS, y_RUS)\n",
    "\n",
    "# predict and calculate auc on test data\n",
    "print('Training Accuracy Score :',rf_clf_cv.best_score_)"
   ]
  },
  {
   "cell_type": "code",
   "execution_count": 25,
   "metadata": {},
   "outputs": [
    {
     "name": "stdout",
     "output_type": "stream",
     "text": [
      "Training Accuracy Score : 0.8183288409703504\n",
      "CPU times: user 2.4 s, sys: 4.16 s, total: 6.55 s\n",
      "Wall time: 592 ms\n"
     ]
    }
   ],
   "source": [
    "%%time\n",
    "param_grid = {} \n",
    "lr_clf = LogisticRegression(n_jobs=2, random_state=seed) \n",
    "lr_clf_cv = GridSearchCV(lr_clf, param_grid, cv=Classification_cv, scoring ='accuracy' ) \n",
    "lr_clf_cv.fit(X_RUS, y_RUS)\n",
    "\n",
    "# predict and calculate auc on test data\n",
    "print('Training Accuracy Score :',lr_clf_cv.best_score_)"
   ]
  },
  {
   "cell_type": "markdown",
   "metadata": {},
   "source": [
    "Random Under Sampling (RUS) degrades the 10 Fold accuracy for both the `Random Forest` Classifier and `Logistic regression` Classifer by ~9%. The new accuracy is worse than the Null accuracy of 88%.\n",
    "\n",
    "We see a significant improvement in training time with RUS"
   ]
  },
  {
   "cell_type": "markdown",
   "metadata": {},
   "source": [
    "After reviewing sampling results from `Random Over sampling` (ROS), `Synthetic Minority Oversampling Technique` (SMOTE) and `Random Under Sampling` (RUS), SMOTE out performed RUS and ROS when both algorithms are considered. We will do training of our model based on training data resampled by SMOTE"
   ]
  },
  {
   "cell_type": "markdown",
   "metadata": {},
   "source": [
    "### Feature Selection and Hyper Parameters Tuning <a class=\"anchor\" id=\"featureslection\"></a>"
   ]
  },
  {
   "cell_type": "markdown",
   "metadata": {},
   "source": [
    "Like in many real world classification problems where feature importance and choosing the optimal number of features is often unknown a priori, we choose to begin with using prediction accuracy of our model narrow down on a subset of features to use without significantly decreasing prediction accuracy of the classifiers. Below we calculate the accuracies of our Classification methods (Logistic Regression, and Random Forest ) based on a percetage of features selected by Chi-Squared test. Chi-square test measures dependence between our predictor and exploratory variables as such using Chi-Squared test."
   ]
  },
  {
   "cell_type": "code",
   "execution_count": 26,
   "metadata": {},
   "outputs": [],
   "source": [
    "X_train = X_SMOTE.copy()\n",
    "X_train= pd.DataFrame(X_train)\n",
    "X_train.columns = Cls_X.columns\n",
    "\n",
    "y_train = y_SMOTE.copy()"
   ]
  },
  {
   "cell_type": "markdown",
   "metadata": {},
   "source": [
    "#### Optimal Feature Count and Chi-Squared Feature Selection <a class=\"anchor\" id=\"featureslection1\"></a>"
   ]
  },
  {
   "cell_type": "code",
   "execution_count": 28,
   "metadata": {
    "scrolled": true
   },
   "outputs": [
    {
     "name": "stdout",
     "output_type": "stream",
     "text": [
      "1  LR :  0.7103  RF : 0.7142\n",
      "6  LR :  0.7301  RF : 0.8304\n",
      "11  LR :  0.8439  RF : 0.8855\n",
      "16  LR :  0.8418  RF : 0.89\n",
      "21  LR :  0.8574  RF : 0.8948\n",
      "26  LR :  0.8651  RF : 0.9043\n",
      "31  LR :  0.8847  RF : 0.9152\n",
      "36  LR :  0.8946  RF : 0.9183\n",
      "41  LR :  0.8982  RF : 0.9208\n",
      "46  LR :  0.9007  RF : 0.9225\n",
      "51  LR :  0.9046  RF : 0.9239\n",
      "56  LR :  0.9119  RF : 0.9256\n",
      "61  LR :  0.9192  RF : 0.9293\n",
      "66  LR :  0.922  RF : 0.9301\n",
      "71  LR :  0.9235  RF : 0.9303\n",
      "76  LR :  0.9288  RF : 0.9305\n",
      "81  LR :  0.9285  RF : 0.9334\n",
      "86  LR :  0.9313  RF : 0.9315\n",
      "91  LR :  0.9306  RF : 0.9316\n",
      "96  LR :  0.9305  RF : 0.9311\n",
      "CPU times: user 2min 2s, sys: 2min 3s, total: 4min 5s\n",
      "Wall time: 2min 13s\n"
     ]
    }
   ],
   "source": [
    "%%time\n",
    "from sklearn import feature_selection\n",
    "\n",
    "percentiles = range(1, 100, 5)\n",
    "results = []\n",
    "results1 = []\n",
    "results2 = []\n",
    "for i in range(1, 100, 5):\n",
    "    fs = feature_selection.SelectPercentile(feature_selection.chi2, percentile=i)\n",
    "    X_train_fs = fs.fit_transform(X_train, y_train)\n",
    "    scores = cross_val_score(lr_clf, X_train_fs, y_train, cv=Classification_cv.split(X_train_fs, y_train))\n",
    "    scores1 = cross_val_score(rf_clf, X_train_fs, y_train, cv=Classification_cv.split(X_train_fs, y_train))\n",
    "    print(i,' LR : ',round(scores.mean(), 4), ' RF :',round(scores1.mean(), 4))\n",
    "    results = np.append(results, scores.mean())\n",
    "    results1 = np.append(results1, scores1.mean())\n"
   ]
  },
  {
   "cell_type": "code",
   "execution_count": 29,
   "metadata": {},
   "outputs": [
    {
     "data": {
      "text/plain": [
       "<Figure size 432x288 with 0 Axes>"
      ]
     },
     "metadata": {},
     "output_type": "display_data"
    },
    {
     "data": {
      "image/png": "[encoded data removed]",
      "text/plain": [
       "<Figure size 720x432 with 1 Axes>"
      ]
     },
     "metadata": {},
     "output_type": "display_data"
    }
   ],
   "source": [
    "###### Plot percentile of features VS. cross-validation scores\n",
    "import pylab as pl\n",
    "pl.figure()\n",
    "f, ax = plt.subplots(figsize=(10, 6))\n",
    "pl.xlabel(\"Percentage of features selected\")\n",
    "pl.ylabel(\"Cross validation accuracy\")\n",
    "pl.plot(percentiles,results, label=\"Logistic Regression\")\n",
    "pl.plot(percentiles,results1, label=\"Random Forest\")\n",
    "\n",
    "plt.axis([0, 100, 0.7, 0.95])\n",
    "plt.legend(bbox_to_anchor=(1.05, 1), loc=2, borderaxespad=0.)\n",
    "plt.title('Model Accuracy Vs % of features selected')\n",
    "plt.grid(True)"
   ]
  },
  {
   "cell_type": "markdown",
   "metadata": {},
   "source": [
    "Corss validation accuracy for both `Logistic regression`  and  `Random Forest` Classifiers  levels off with ~60% of the features, after which there is no significant gain in accuracy with addition of more features.\n",
    "\n",
    "We will use Chi-Squared test to select 60% of the features to use for modeling"
   ]
  },
  {
   "cell_type": "code",
   "execution_count": 27,
   "metadata": {},
   "outputs": [
    {
     "data": {
      "text/html": [
       "<div>\n",
       "<style scoped>\n",
       "    .dataframe tbody tr th:only-of-type {\n",
       "        vertical-align: middle;\n",
       "    }\n",
       "\n",
       "    .dataframe tbody tr th {\n",
       "        vertical-align: top;\n",
       "    }\n",
       "\n",
       "    .dataframe thead th {\n",
       "        text-align: right;\n",
       "    }\n",
       "</style>\n",
       "<table border=\"1\" class=\"dataframe\">\n",
       "  <thead>\n",
       "    <tr style=\"text-align: right;\">\n",
       "      <th></th>\n",
       "      <th>Feature</th>\n",
       "      <th>chi-squared</th>\n",
       "    </tr>\n",
       "  </thead>\n",
       "  <tbody>\n",
       "    <tr>\n",
       "      <th>2</th>\n",
       "      <td>duration</td>\n",
       "      <td>3.737231e+06</td>\n",
       "    </tr>\n",
       "    <tr>\n",
       "      <th>0</th>\n",
       "      <td>balance</td>\n",
       "      <td>2.533680e+06</td>\n",
       "    </tr>\n",
       "    <tr>\n",
       "      <th>4</th>\n",
       "      <td>pdays</td>\n",
       "      <td>2.136762e+05</td>\n",
       "    </tr>\n",
       "    <tr>\n",
       "      <th>20</th>\n",
       "      <td>contact_unknown</td>\n",
       "      <td>6.541730e+03</td>\n",
       "    </tr>\n",
       "    <tr>\n",
       "      <th>3</th>\n",
       "      <td>campaign</td>\n",
       "      <td>5.770337e+03</td>\n",
       "    </tr>\n",
       "    <tr>\n",
       "      <th>17</th>\n",
       "      <td>housing_yes</td>\n",
       "      <td>5.749488e+03</td>\n",
       "    </tr>\n",
       "    <tr>\n",
       "      <th>5</th>\n",
       "      <td>previous</td>\n",
       "      <td>4.640705e+03</td>\n",
       "    </tr>\n",
       "    <tr>\n",
       "      <th>26</th>\n",
       "      <td>Quarter_Q2</td>\n",
       "      <td>3.938764e+03</td>\n",
       "    </tr>\n",
       "    <tr>\n",
       "      <th>7</th>\n",
       "      <td>job_blue-collar</td>\n",
       "      <td>3.615762e+03</td>\n",
       "    </tr>\n",
       "    <tr>\n",
       "      <th>18</th>\n",
       "      <td>loan_yes</td>\n",
       "      <td>3.301335e+03</td>\n",
       "    </tr>\n",
       "    <tr>\n",
       "      <th>24</th>\n",
       "      <td>Age_Group_31-45</td>\n",
       "      <td>3.190930e+03</td>\n",
       "    </tr>\n",
       "    <tr>\n",
       "      <th>15</th>\n",
       "      <td>education_primary</td>\n",
       "      <td>2.752738e+03</td>\n",
       "    </tr>\n",
       "    <tr>\n",
       "      <th>13</th>\n",
       "      <td>marital_married</td>\n",
       "      <td>2.641555e+03</td>\n",
       "    </tr>\n",
       "    <tr>\n",
       "      <th>25</th>\n",
       "      <td>Age_Group_46-64</td>\n",
       "      <td>2.470329e+03</td>\n",
       "    </tr>\n",
       "    <tr>\n",
       "      <th>16</th>\n",
       "      <td>education_secondary</td>\n",
       "      <td>2.467514e+03</td>\n",
       "    </tr>\n",
       "    <tr>\n",
       "      <th>11</th>\n",
       "      <td>job_technician</td>\n",
       "      <td>2.219425e+03</td>\n",
       "    </tr>\n",
       "    <tr>\n",
       "      <th>27</th>\n",
       "      <td>Quarter_Q3</td>\n",
       "      <td>2.110716e+03</td>\n",
       "    </tr>\n",
       "    <tr>\n",
       "      <th>21</th>\n",
       "      <td>poutcome_success</td>\n",
       "      <td>1.955364e+03</td>\n",
       "    </tr>\n",
       "    <tr>\n",
       "      <th>10</th>\n",
       "      <td>job_services</td>\n",
       "      <td>1.616008e+03</td>\n",
       "    </tr>\n",
       "    <tr>\n",
       "      <th>1</th>\n",
       "      <td>day</td>\n",
       "      <td>1.578832e+03</td>\n",
       "    </tr>\n",
       "    <tr>\n",
       "      <th>12</th>\n",
       "      <td>marital_divorced</td>\n",
       "      <td>1.551748e+03</td>\n",
       "    </tr>\n",
       "    <tr>\n",
       "      <th>6</th>\n",
       "      <td>job_admin.</td>\n",
       "      <td>1.490021e+03</td>\n",
       "    </tr>\n",
       "    <tr>\n",
       "      <th>9</th>\n",
       "      <td>job_management</td>\n",
       "      <td>1.265365e+03</td>\n",
       "    </tr>\n",
       "    <tr>\n",
       "      <th>22</th>\n",
       "      <td>poutcome_unknown</td>\n",
       "      <td>9.897202e+02</td>\n",
       "    </tr>\n",
       "    <tr>\n",
       "      <th>23</th>\n",
       "      <td>Age_Group_20-30</td>\n",
       "      <td>8.200302e+02</td>\n",
       "    </tr>\n",
       "    <tr>\n",
       "      <th>19</th>\n",
       "      <td>contact_telephone</td>\n",
       "      <td>7.658681e+02</td>\n",
       "    </tr>\n",
       "    <tr>\n",
       "      <th>14</th>\n",
       "      <td>marital_single</td>\n",
       "      <td>7.500641e+02</td>\n",
       "    </tr>\n",
       "    <tr>\n",
       "      <th>8</th>\n",
       "      <td>job_entrepreneur</td>\n",
       "      <td>6.990548e+02</td>\n",
       "    </tr>\n",
       "  </tbody>\n",
       "</table>\n",
       "</div>"
      ],
      "text/plain": [
       "                Feature   chi-squared\n",
       "2              duration  3.737231e+06\n",
       "0               balance  2.533680e+06\n",
       "4                 pdays  2.136762e+05\n",
       "20      contact_unknown  6.541730e+03\n",
       "3              campaign  5.770337e+03\n",
       "17          housing_yes  5.749488e+03\n",
       "5              previous  4.640705e+03\n",
       "26           Quarter_Q2  3.938764e+03\n",
       "7       job_blue-collar  3.615762e+03\n",
       "18             loan_yes  3.301335e+03\n",
       "24      Age_Group_31-45  3.190930e+03\n",
       "15    education_primary  2.752738e+03\n",
       "13      marital_married  2.641555e+03\n",
       "25      Age_Group_46-64  2.470329e+03\n",
       "16  education_secondary  2.467514e+03\n",
       "11       job_technician  2.219425e+03\n",
       "27           Quarter_Q3  2.110716e+03\n",
       "21     poutcome_success  1.955364e+03\n",
       "10         job_services  1.616008e+03\n",
       "1                   day  1.578832e+03\n",
       "12     marital_divorced  1.551748e+03\n",
       "6            job_admin.  1.490021e+03\n",
       "9        job_management  1.265365e+03\n",
       "22     poutcome_unknown  9.897202e+02\n",
       "23      Age_Group_20-30  8.200302e+02\n",
       "19    contact_telephone  7.658681e+02\n",
       "14       marital_single  7.500641e+02\n",
       "8      job_entrepreneur  6.990548e+02"
      ]
     },
     "execution_count": 27,
     "metadata": {},
     "output_type": "execute_result"
    }
   ],
   "source": [
    "from sklearn import feature_selection\n",
    "fs = feature_selection.SelectPercentile(feature_selection.chi2, percentile=60)\n",
    "df_X_train_fs = fs.fit_transform(X_train, y_train)\n",
    "\n",
    "np.set_printoptions(suppress=True, precision=2, linewidth=80)\n",
    "\n",
    "Chi2_Score = pd.DataFrame()\n",
    "\n",
    "for i in range(len(X_train.columns.values)):\n",
    "    if fs.get_support()[i]:\n",
    "        #print(df_X.columns.values[i],'\\t', fs.scores_[i] )\n",
    "        Feature ={'Feature': X_train.columns.values[i], 'chi-squared':fs.scores_[i]}\n",
    "        Chi2_Score =Chi2_Score.append(Feature, ignore_index=True)\n",
    "Chi2_Score.sort_values('chi-squared', ascending=False)   "
   ]
  },
  {
   "cell_type": "code",
   "execution_count": 28,
   "metadata": {},
   "outputs": [],
   "source": [
    "# subset test and train data to selected features above\n",
    "X_train= X_train[Chi2_Score.Feature]\n",
    "X_test = X_test[Chi2_Score.Feature]"
   ]
  },
  {
   "cell_type": "code",
   "execution_count": 29,
   "metadata": {},
   "outputs": [
    {
     "name": "stdout",
     "output_type": "stream",
     "text": [
      "Training Accuracy Score : 0.9283029673909152\n",
      "CPU times: user 1.7 s, sys: 62.1 ms, total: 1.76 s\n",
      "Wall time: 5.12 s\n"
     ]
    }
   ],
   "source": [
    "%%time\n",
    "param_grid = {} \n",
    "rf_clf = RandomForestClassifier(n_jobs=2, random_state=seed) \n",
    "rf_clf_cv = GridSearchCV(rf_clf, param_grid, cv=Classification_cv, scoring ='accuracy' ) \n",
    "rf_clf_cv.fit(X_train, y_train) \n",
    "\n",
    "# predict and calculate auc on test data\n",
    "print('Training Accuracy Score :',rf_clf_cv.best_score_)"
   ]
  },
  {
   "cell_type": "code",
   "execution_count": 30,
   "metadata": {},
   "outputs": [
    {
     "name": "stdout",
     "output_type": "stream",
     "text": [
      "Training Accuracy Score : 0.9175645201703834\n",
      "CPU times: user 6.99 s, sys: 6.69 s, total: 13.7 s\n",
      "Wall time: 4.17 s\n"
     ]
    }
   ],
   "source": [
    "%%time\n",
    "param_grid = {} \n",
    "lr_clf = LogisticRegression(n_jobs=2, random_state=seed) \n",
    "lr_clf_cv = GridSearchCV(lr_clf, param_grid, cv=Classification_cv, scoring ='accuracy' ) \n",
    "lr_clf_cv.fit(X_train, y_train) \n",
    "\n",
    "# predict and calculate auc on test data\n",
    "print('Training Accuracy Score :',lr_clf_cv.best_score_)"
   ]
  },
  {
   "cell_type": "markdown",
   "metadata": {},
   "source": [
    "with the reduced feature count the accuracy of both `Logistic Regression` and `Random Forest` Classifiers  barely changes and still stands above the  `88%` null accuracy. The reduced number of features also results in an improved training time."
   ]
  },
  {
   "cell_type": "markdown",
   "metadata": {},
   "source": [
    "#### Hyperparameter Tuning <a class=\"anchor\" id=\"featureslection2\"></a>"
   ]
  },
  {
   "cell_type": "markdown",
   "metadata": {},
   "source": [
    "Next lets do Hyperparameter tuning to see if we get some gain in our accuracy. We will leverage the **`Death2GridSearch.py`** utility that is demoed here https://github.com/kevimwe/Death2GridSearch-Classification.\n",
    "\n",
    "Hyperpararameters for `Logistic Regression` and `Random Forest`  Classifiers are defined in the `algos.yaml` file stored in the `/setup` folder.\n",
    "\n",
    "The results for the gridsearch runs along with summaries are saved in the `/results` folder"
   ]
  },
  {
   "cell_type": "code",
   "execution_count": 31,
   "metadata": {},
   "outputs": [],
   "source": [
    "dataM = X_train\n",
    "dataM['Subscribed'] =y_train"
   ]
  },
  {
   "cell_type": "code",
   "execution_count": 32,
   "metadata": {},
   "outputs": [
    {
     "data": {
      "text/html": [
       "<div>\n",
       "<style scoped>\n",
       "    .dataframe tbody tr th:only-of-type {\n",
       "        vertical-align: middle;\n",
       "    }\n",
       "\n",
       "    .dataframe tbody tr th {\n",
       "        vertical-align: top;\n",
       "    }\n",
       "\n",
       "    .dataframe thead th {\n",
       "        text-align: right;\n",
       "    }\n",
       "</style>\n",
       "<table border=\"1\" class=\"dataframe\">\n",
       "  <thead>\n",
       "    <tr style=\"text-align: right;\">\n",
       "      <th></th>\n",
       "      <th>balance</th>\n",
       "      <th>day</th>\n",
       "      <th>duration</th>\n",
       "      <th>campaign</th>\n",
       "      <th>pdays</th>\n",
       "      <th>previous</th>\n",
       "      <th>job_admin.</th>\n",
       "      <th>job_blue-collar</th>\n",
       "      <th>job_entrepreneur</th>\n",
       "      <th>job_management</th>\n",
       "      <th>...</th>\n",
       "      <th>contact_telephone</th>\n",
       "      <th>contact_unknown</th>\n",
       "      <th>poutcome_success</th>\n",
       "      <th>poutcome_unknown</th>\n",
       "      <th>Age_Group_20-30</th>\n",
       "      <th>Age_Group_31-45</th>\n",
       "      <th>Age_Group_46-64</th>\n",
       "      <th>Quarter_Q2</th>\n",
       "      <th>Quarter_Q3</th>\n",
       "      <th>Subscribed</th>\n",
       "    </tr>\n",
       "  </thead>\n",
       "  <tbody>\n",
       "    <tr>\n",
       "      <th>0</th>\n",
       "      <td>4853</td>\n",
       "      <td>31</td>\n",
       "      <td>234</td>\n",
       "      <td>2</td>\n",
       "      <td>1</td>\n",
       "      <td>0</td>\n",
       "      <td>0</td>\n",
       "      <td>1</td>\n",
       "      <td>0</td>\n",
       "      <td>0</td>\n",
       "      <td>...</td>\n",
       "      <td>0</td>\n",
       "      <td>0</td>\n",
       "      <td>0</td>\n",
       "      <td>1</td>\n",
       "      <td>0</td>\n",
       "      <td>1</td>\n",
       "      <td>0</td>\n",
       "      <td>0</td>\n",
       "      <td>1</td>\n",
       "      <td>0</td>\n",
       "    </tr>\n",
       "    <tr>\n",
       "      <th>1</th>\n",
       "      <td>378</td>\n",
       "      <td>8</td>\n",
       "      <td>165</td>\n",
       "      <td>1</td>\n",
       "      <td>1</td>\n",
       "      <td>0</td>\n",
       "      <td>1</td>\n",
       "      <td>0</td>\n",
       "      <td>0</td>\n",
       "      <td>0</td>\n",
       "      <td>...</td>\n",
       "      <td>0</td>\n",
       "      <td>0</td>\n",
       "      <td>0</td>\n",
       "      <td>1</td>\n",
       "      <td>1</td>\n",
       "      <td>0</td>\n",
       "      <td>0</td>\n",
       "      <td>0</td>\n",
       "      <td>1</td>\n",
       "      <td>0</td>\n",
       "    </tr>\n",
       "    <tr>\n",
       "      <th>2</th>\n",
       "      <td>3440</td>\n",
       "      <td>9</td>\n",
       "      <td>194</td>\n",
       "      <td>1</td>\n",
       "      <td>1</td>\n",
       "      <td>0</td>\n",
       "      <td>0</td>\n",
       "      <td>0</td>\n",
       "      <td>0</td>\n",
       "      <td>0</td>\n",
       "      <td>...</td>\n",
       "      <td>0</td>\n",
       "      <td>0</td>\n",
       "      <td>0</td>\n",
       "      <td>1</td>\n",
       "      <td>0</td>\n",
       "      <td>0</td>\n",
       "      <td>1</td>\n",
       "      <td>0</td>\n",
       "      <td>1</td>\n",
       "      <td>0</td>\n",
       "    </tr>\n",
       "    <tr>\n",
       "      <th>3</th>\n",
       "      <td>668</td>\n",
       "      <td>14</td>\n",
       "      <td>297</td>\n",
       "      <td>2</td>\n",
       "      <td>1</td>\n",
       "      <td>0</td>\n",
       "      <td>0</td>\n",
       "      <td>0</td>\n",
       "      <td>0</td>\n",
       "      <td>1</td>\n",
       "      <td>...</td>\n",
       "      <td>0</td>\n",
       "      <td>0</td>\n",
       "      <td>0</td>\n",
       "      <td>1</td>\n",
       "      <td>0</td>\n",
       "      <td>1</td>\n",
       "      <td>0</td>\n",
       "      <td>0</td>\n",
       "      <td>1</td>\n",
       "      <td>0</td>\n",
       "    </tr>\n",
       "    <tr>\n",
       "      <th>4</th>\n",
       "      <td>830</td>\n",
       "      <td>17</td>\n",
       "      <td>71</td>\n",
       "      <td>1</td>\n",
       "      <td>138</td>\n",
       "      <td>2</td>\n",
       "      <td>0</td>\n",
       "      <td>0</td>\n",
       "      <td>0</td>\n",
       "      <td>1</td>\n",
       "      <td>...</td>\n",
       "      <td>0</td>\n",
       "      <td>0</td>\n",
       "      <td>0</td>\n",
       "      <td>0</td>\n",
       "      <td>0</td>\n",
       "      <td>0</td>\n",
       "      <td>1</td>\n",
       "      <td>0</td>\n",
       "      <td>0</td>\n",
       "      <td>0</td>\n",
       "    </tr>\n",
       "  </tbody>\n",
       "</table>\n",
       "<p>5 rows × 29 columns</p>\n",
       "</div>"
      ],
      "text/plain": [
       "   balance  day  duration  campaign  pdays  previous  job_admin.  \\\n",
       "0     4853   31       234         2      1         0           0   \n",
       "1      378    8       165         1      1         0           1   \n",
       "2     3440    9       194         1      1         0           0   \n",
       "3      668   14       297         2      1         0           0   \n",
       "4      830   17        71         1    138         2           0   \n",
       "\n",
       "   job_blue-collar  job_entrepreneur  job_management     ...      \\\n",
       "0                1                 0               0     ...       \n",
       "1                0                 0               0     ...       \n",
       "2                0                 0               0     ...       \n",
       "3                0                 0               1     ...       \n",
       "4                0                 0               1     ...       \n",
       "\n",
       "   contact_telephone  contact_unknown  poutcome_success  poutcome_unknown  \\\n",
       "0                  0                0                 0                 1   \n",
       "1                  0                0                 0                 1   \n",
       "2                  0                0                 0                 1   \n",
       "3                  0                0                 0                 1   \n",
       "4                  0                0                 0                 0   \n",
       "\n",
       "   Age_Group_20-30  Age_Group_31-45  Age_Group_46-64  Quarter_Q2  Quarter_Q3  \\\n",
       "0                0                1                0           0           1   \n",
       "1                1                0                0           0           1   \n",
       "2                0                0                1           0           1   \n",
       "3                0                1                0           0           1   \n",
       "4                0                0                1           0           0   \n",
       "\n",
       "   Subscribed  \n",
       "0           0  \n",
       "1           0  \n",
       "2           0  \n",
       "3           0  \n",
       "4           0  \n",
       "\n",
       "[5 rows x 29 columns]"
      ]
     },
     "execution_count": 32,
     "metadata": {},
     "output_type": "execute_result"
    }
   ],
   "source": [
    "dataM.head()"
   ]
  },
  {
   "cell_type": "code",
   "execution_count": 40,
   "metadata": {
    "scrolled": true
   },
   "outputs": [
    {
     "name": "stdout",
     "output_type": "stream",
     "text": [
      "Running.... LogisticRegression\n",
      "Running.... RandomForestClassifier\n",
      "processing Completed Successfully\n"
     ]
    },
    {
     "data": {
      "text/html": [
       "<style  type=\"text/css\" >\n",
       "    #T_c23535b8_692a_11e9_aa4f_4cedfb93a259row0_col0 {\n",
       "            background-color:  yellow;\n",
       "        }    #T_c23535b8_692a_11e9_aa4f_4cedfb93a259row0_col1 {\n",
       "            background-color:  yellow;\n",
       "        }    #T_c23535b8_692a_11e9_aa4f_4cedfb93a259row0_col2 {\n",
       "            background-color:  yellow;\n",
       "        }    #T_c23535b8_692a_11e9_aa4f_4cedfb93a259row0_col4 {\n",
       "            background-color:  yellow;\n",
       "        }    #T_c23535b8_692a_11e9_aa4f_4cedfb93a259row1_col0 {\n",
       "            background-color:  yellow;\n",
       "        }    #T_c23535b8_692a_11e9_aa4f_4cedfb93a259row1_col3 {\n",
       "            background-color:  yellow;\n",
       "        }    #T_c23535b8_692a_11e9_aa4f_4cedfb93a259row1_col4 {\n",
       "            background-color:  yellow;\n",
       "        }</style>  \n",
       "<table id=\"T_c23535b8_692a_11e9_aa4f_4cedfb93a259\" > \n",
       "<thead>    <tr> \n",
       "        <th class=\"blank level0\" ></th> \n",
       "        <th class=\"col_heading level0 col0\" >accuracy</th> \n",
       "        <th class=\"col_heading level0 col1\" >precision</th> \n",
       "        <th class=\"col_heading level0 col2\" >recall</th> \n",
       "        <th class=\"col_heading level0 col3\" >f1_score</th> \n",
       "        <th class=\"col_heading level0 col4\" >roc_auc_score</th> \n",
       "    </tr></thead> \n",
       "<tbody>    <tr> \n",
       "        <th id=\"T_c23535b8_692a_11e9_aa4f_4cedfb93a259level0_row0\" class=\"row_heading level0 row0\" >LogisticRegression</th> \n",
       "        <td id=\"T_c23535b8_692a_11e9_aa4f_4cedfb93a259row0_col0\" class=\"data row0 col0\" >0.92</td> \n",
       "        <td id=\"T_c23535b8_692a_11e9_aa4f_4cedfb93a259row0_col1\" class=\"data row0 col1\" >0.94</td> \n",
       "        <td id=\"T_c23535b8_692a_11e9_aa4f_4cedfb93a259row0_col2\" class=\"data row0 col2\" >0.99</td> \n",
       "        <td id=\"T_c23535b8_692a_11e9_aa4f_4cedfb93a259row0_col3\" class=\"data row0 col3\" >0.9</td> \n",
       "        <td id=\"T_c23535b8_692a_11e9_aa4f_4cedfb93a259row0_col4\" class=\"data row0 col4\" >0.92</td> \n",
       "    </tr>    <tr> \n",
       "        <th id=\"T_c23535b8_692a_11e9_aa4f_4cedfb93a259level0_row1\" class=\"row_heading level0 row1\" >RandomForestClassifier</th> \n",
       "        <td id=\"T_c23535b8_692a_11e9_aa4f_4cedfb93a259row1_col0\" class=\"data row1 col0\" >0.92</td> \n",
       "        <td id=\"T_c23535b8_692a_11e9_aa4f_4cedfb93a259row1_col1\" class=\"data row1 col1\" >0.91</td> \n",
       "        <td id=\"T_c23535b8_692a_11e9_aa4f_4cedfb93a259row1_col2\" class=\"data row1 col2\" >0.92</td> \n",
       "        <td id=\"T_c23535b8_692a_11e9_aa4f_4cedfb93a259row1_col3\" class=\"data row1 col3\" >0.91</td> \n",
       "        <td id=\"T_c23535b8_692a_11e9_aa4f_4cedfb93a259row1_col4\" class=\"data row1 col4\" >0.92</td> \n",
       "    </tr></tbody> \n",
       "</table> "
      ],
      "text/plain": [
       "<pandas.io.formats.style.Styler at 0x7fcca3879048>"
      ]
     },
     "execution_count": 40,
     "metadata": {},
     "output_type": "execute_result"
    },
    {
     "data": {
      "image/png": "[encoded data removed]",
      "text/plain": [
       "<Figure size 1080x360 with 1 Axes>"
      ]
     },
     "metadata": {
      "needs_background": "light"
     },
     "output_type": "display_data"
    },
    {
     "data": {
      "image/png": "[encoded data removed]",
      "text/plain": [
       "<Figure size 1080x360 with 1 Axes>"
      ]
     },
     "metadata": {
      "needs_background": "light"
     },
     "output_type": "display_data"
    },
    {
     "data": {
      "image/png": "[encoded data removed]",
      "text/plain": [
       "<Figure size 1080x360 with 1 Axes>"
      ]
     },
     "metadata": {
      "needs_background": "light"
     },
     "output_type": "display_data"
    },
    {
     "data": {
      "image/png": "[encoded data removed]",
      "text/plain": [
       "<Figure size 1080x360 with 1 Axes>"
      ]
     },
     "metadata": {
      "needs_background": "light"
     },
     "output_type": "display_data"
    },
    {
     "data": {
      "image/png": "[encoded data removed]",
      "text/plain": [
       "<Figure size 1080x360 with 1 Axes>"
      ]
     },
     "metadata": {
      "needs_background": "light"
     },
     "output_type": "display_data"
    }
   ],
   "source": [
    "# run main \n",
    "main(data =dataM, Response='Subscribed', n_folds=10)"
   ]
  },
  {
   "cell_type": "markdown",
   "metadata": {},
   "source": [
    "Results of hyperparamater search are saved in results folder. As summarised above, the two algorithms are pretty comparable  in terms of accuracy, f1_score and roc_auc_score when the best set of hyperparmaters is considered for each .  `Logistic regression` slightly out performs `Random Forest` classifier in terms of precion and recall.\n",
    "\n",
    "Below classification objects from the best perfoming objects models selected by hyper paramter tuning above are created.\n",
    "\n",
    "Model performance are verified in terms of accuracy."
   ]
  },
  {
   "cell_type": "code",
   "execution_count": 33,
   "metadata": {},
   "outputs": [],
   "source": [
    "# pickle test and training data for reproducability\n",
    "\n",
    "filename1 = 'data/X_train.csv'\n",
    "filename2 = 'data/y_train.csv'\n",
    "filename3 = 'data/X_test.csv'\n",
    "filename4 = 'data/y_test.csv'"
   ]
  },
  {
   "cell_type": "code",
   "execution_count": 35,
   "metadata": {},
   "outputs": [],
   "source": [
    "# save data to disc\n",
    "X_train.to_csv(filename1, index=False)\n",
    "X_test.to_csv(filename3, index=False)\n",
    "X_test.to_csv(filename2, index=False)\n",
    "X_test.to_csv(filename4, index=False)"
   ]
  },
  {
   "cell_type": "markdown",
   "metadata": {},
   "source": [
    "#### Fitting Models on Selected Hyper Params and Feature importance evaluation<a class=\"anchor\" id=\"featureslection3\"></a>"
   ]
  },
  {
   "cell_type": "code",
   "execution_count": 32,
   "metadata": {},
   "outputs": [],
   "source": [
    "## Load pickled Data"
   ]
  },
  {
   "cell_type": "code",
   "execution_count": 47,
   "metadata": {},
   "outputs": [],
   "source": [
    "X_train = pickle.load(open(filename1, 'rb'))\n",
    "y_train = pickle.load(open(filename2, 'rb'))\n",
    "X_test = pickle.load(open(filename3, 'rb'))\n",
    "y_test = pickle.load(open(filename4, 'rb'))"
   ]
  },
  {
   "cell_type": "code",
   "execution_count": 33,
   "metadata": {},
   "outputs": [
    {
     "name": "stdout",
     "output_type": "stream",
     "text": [
      "---------------------------------\n",
      "10 Fold Logistic Classification runs\n",
      "---------------------------------\n",
      "[0.66 0.88 0.95 0.96 0.95 0.95 0.95 0.95 0.96 0.96]\n",
      "---------------------------------\n",
      "Mean Training Accuracy: 0.9178193335880863\n",
      "---------------------------------\n"
     ]
    },
    {
     "data": {
      "text/plain": [
       "LogisticRegression(C=0.01, class_weight=None, dual=False, fit_intercept=True,\n",
       "          intercept_scaling=1, max_iter=100, multi_class='warn',\n",
       "          n_jobs=None, penalty='l2', random_state=100, solver='newton-cg',\n",
       "          tol=0.0001, verbose=0, warm_start=False)"
      ]
     },
     "execution_count": 33,
     "metadata": {},
     "output_type": "execute_result"
    }
   ],
   "source": [
    "lr_clf = LogisticRegression(penalty='l2', C = 0.01, class_weight=None,solver= 'newton-cg', max_iter=100, tol= 0.0001, random_state=seed)\n",
    "lr_training_scores = cross_val_score(lr_clf ,X_train, y_train, cv=Classification_cv)\n",
    "print(\"---------------------------------\")\n",
    "print(\"10 Fold Logistic Classification runs\")\n",
    "print(\"---------------------------------\")\n",
    "print(lr_training_scores )\n",
    "print(\"---------------------------------\")\n",
    "print('Mean Training Accuracy:', np.average(lr_training_scores))\n",
    "print(\"---------------------------------\")\n",
    "\n",
    "#save the model to disk\n",
    "filename_lr = 'pickled/finalized_Logistic_model.sav'\n",
    "pickle.dump(lr_clf, open(filename_lr, 'wb'))\n",
    "lr_clf"
   ]
  },
  {
   "cell_type": "code",
   "execution_count": 34,
   "metadata": {},
   "outputs": [
    {
     "name": "stdout",
     "output_type": "stream",
     "text": [
      "---------------------------------\n",
      "10 Fold Random Forest Classification runs\n",
      "---------------------------------\n",
      "[0.7  0.87 0.94 0.94 0.94 0.94 0.94 0.94 0.95 0.94]\n",
      "---------------------------------\n",
      "Mean Training Accuracy: 0.9099258269408054\n",
      "---------------------------------\n"
     ]
    },
    {
     "data": {
      "text/plain": [
       "RandomForestClassifier(bootstrap=True, class_weight=None, criterion='entropy',\n",
       "            max_depth=10, max_features='auto', max_leaf_nodes=None,\n",
       "            min_impurity_decrease=0.0, min_impurity_split=None,\n",
       "            min_samples_leaf=1, min_samples_split=2,\n",
       "            min_weight_fraction_leaf=0.0, n_estimators=5, n_jobs=None,\n",
       "            oob_score=False, random_state=100, verbose=0, warm_start=False)"
      ]
     },
     "execution_count": 34,
     "metadata": {},
     "output_type": "execute_result"
    }
   ],
   "source": [
    "rf_clf = RandomForestClassifier(max_features='auto',criterion='entropy', max_depth=10,  n_estimators=5,min_samples_leaf=1, random_state=seed)\n",
    "\n",
    "rf_training_scores = cross_val_score(rf_clf ,X_train, y_train, cv=Classification_cv)\n",
    "print(\"---------------------------------\")\n",
    "print(\"10 Fold Random Forest Classification runs\")\n",
    "print(\"---------------------------------\")\n",
    "print(rf_training_scores )\n",
    "print(\"---------------------------------\")\n",
    "print('Mean Training Accuracy:', np.average(rf_training_scores))\n",
    "print(\"---------------------------------\")\n",
    "\n",
    "#save the model to disk\n",
    "# save the model to disk\n",
    "filename_rf = 'pickled/finalized_RandomForest_model.sav'\n",
    "pickle.dump(rf_clf, open(filename_rf, 'wb'))\n",
    "rf_clf"
   ]
  },
  {
   "cell_type": "code",
   "execution_count": 35,
   "metadata": {},
   "outputs": [
    {
     "name": "stdout",
     "output_type": "stream",
     "text": [
      "                     importance\n",
      "duration               1.549896\n",
      "marital_married        1.369977\n",
      "marital_single         1.113423\n",
      "Age_Group_31-45        1.101170\n",
      "Age_Group_46-64        0.934861\n",
      "marital_divorced       0.795750\n",
      "Age_Group_20-30        0.636859\n",
      "contact_unknown        0.570240\n",
      "job_management         0.533196\n",
      "education_primary      0.519376\n",
      "housing_yes            0.507329\n",
      "Quarter_Q3             0.469640\n",
      "job_technician         0.423696\n",
      "poutcome_success       0.409913\n",
      "education_secondary    0.394635\n",
      "job_blue-collar        0.346856\n",
      "job_services           0.309170\n",
      "job_admin.             0.275683\n",
      "poutcome_unknown       0.271115\n",
      "loan_yes               0.268509\n"
     ]
    },
    {
     "data": {
      "text/plain": [
       "Text(0.5, 1.0, 'Logistic Regression top 20 features ranked by importance')"
      ]
     },
     "execution_count": 35,
     "metadata": {},
     "output_type": "execute_result"
    },
    {
     "data": {
      "image/png": "[encoded data removed]",
      "text/plain": [
       "<Figure size 1080x432 with 1 Axes>"
      ]
     },
     "metadata": {},
     "output_type": "display_data"
    }
   ],
   "source": [
    "from sklearn.linear_model import LogisticRegression\n",
    "\n",
    "\n",
    "# fit the model\n",
    "#lr_clf.fit(X_train, y_train)\n",
    "lr_clf.fit(X_train/ np.std(X_train, 0), y_train) #Scale the data before feature importance\n",
    "\n",
    "# coefs\n",
    "coefs = list(abs(lr_clf.coef_[0]))\n",
    "\n",
    "# features\n",
    "features = list(X_train.columns)\n",
    "\n",
    "\n",
    "weights = pd.Series(coefs,index=features) \n",
    "top20 = abs(weights).sort_values(ascending = False).head(20) \n",
    "\n",
    "\n",
    "# zip them up\n",
    "zipped = list(zip(features, coefs))\n",
    "\n",
    "# create dictionary\n",
    "coef_features = dict(zipped)\n",
    "\n",
    "import operator\n",
    "sorted_coef_features = sorted(coef_features.items(), key=operator.itemgetter(1), reverse=True)\n",
    "\n",
    "topDF = weights[top20.index] \n",
    "#ax = topDF.head(n=20).plot(kind='bar',figsize = (14, 8), color = 'b')\n",
    "f, ax = plt.subplots(figsize=(15, 6))\n",
    "\n",
    "topDF=pd.DataFrame(topDF)\n",
    "topDF.columns = ['importance']\n",
    "\n",
    "print(topDF)\n",
    "\n",
    "g = sns.barplot(topDF.index, y=\"importance\", data=topDF, color=\"red\", saturation=.9, ci=68)\n",
    "g =plt.xticks(rotation=90)\n",
    "plt.xlabel('Feature')\n",
    "plt.ylabel('importance')\n",
    "plt.title('Logistic Regression top 20 features ranked by importance')"
   ]
  },
  {
   "cell_type": "markdown",
   "metadata": {},
   "source": [
    "**Random Forest**"
   ]
  },
  {
   "cell_type": "code",
   "execution_count": 36,
   "metadata": {},
   "outputs": [
    {
     "name": "stdout",
     "output_type": "stream",
     "text": [
      "                feature  importance\n",
      "2              duration    0.277397\n",
      "17          housing_yes    0.129648\n",
      "12     marital_divorced    0.060982\n",
      "20      contact_unknown    0.060181\n",
      "14       marital_single    0.055214\n",
      "13      marital_married    0.050304\n",
      "24      Age_Group_31-45    0.041473\n",
      "4                 pdays    0.039750\n",
      "27           Quarter_Q3    0.039465\n",
      "25      Age_Group_46-64    0.032067\n",
      "26           Quarter_Q2    0.025934\n",
      "18             loan_yes    0.024947\n",
      "23      Age_Group_20-30    0.019396\n",
      "16  education_secondary    0.019043\n",
      "1                   day    0.015403\n",
      "15    education_primary    0.013348\n",
      "7       job_blue-collar    0.013245\n",
      "3              campaign    0.011948\n",
      "22     poutcome_unknown    0.011819\n",
      "0               balance    0.011806\n"
     ]
    },
    {
     "data": {
      "text/plain": [
       "Text(0.5, 1.0, 'Random Forest Features importance')"
      ]
     },
     "execution_count": 36,
     "metadata": {},
     "output_type": "execute_result"
    },
    {
     "data": {
      "image/png": "[encoded data removed]",
      "text/plain": [
       "<Figure size 1080x432 with 1 Axes>"
      ]
     },
     "metadata": {},
     "output_type": "display_data"
    }
   ],
   "source": [
    "rf_clf.fit(X_train, y_train)\n",
    "importances = pd.DataFrame({'feature':X_train.columns, 'importance': rf_clf.feature_importances_}) \n",
    "importances = importances.sort_values('importance',ascending=False)#.set_index('feature') \n",
    " \n",
    "#only display top 20 importances[:10].plot.bar()\n",
    "topDF1 = importances.head(20)\n",
    "print(topDF1)\n",
    "\n",
    "f, ax = plt.subplots(figsize=(15, 6))\n",
    "\n",
    "g = sns.barplot('feature', y=\"importance\", data=topDF1, color=\"red\", saturation=.9, ci=68)\n",
    "g =plt.xticks(rotation=90)\n",
    "plt.xlabel('Feature')\n",
    "plt.ylabel('importance')\n",
    "plt.title('Random Forest Features importance')"
   ]
  },
  {
   "cell_type": "markdown",
   "metadata": {},
   "source": [
    "Above, top 20 most important features for both Logistic regression and Random Forest classifiers are shown. `duration`, ,`housing`, `marital status` and `age` top the features in terms of importance.\n",
    "\n"
   ]
  },
  {
   "cell_type": "markdown",
   "metadata": {},
   "source": [
    "<div class=\"alert alert-info\"><h3>\n",
    "Evaluating Model Performance<a class=\"anchor\" id=\"performance\"></a>\n",
    "</h3></div>"
   ]
  },
  {
   "cell_type": "code",
   "execution_count": 37,
   "metadata": {},
   "outputs": [],
   "source": [
    "from sklearn.metrics import confusion_matrix"
   ]
  },
  {
   "cell_type": "code",
   "execution_count": 38,
   "metadata": {},
   "outputs": [],
   "source": [
    "def plot_confusionMat(cv, model ='Logistic Regression'):\n",
    "    plt.rcParams['figure.figsize'] = [7, 7]\n",
    "    cm = confusion_matrix(y_test, cv.predict(X_test))\n",
    "    plt.clf()\n",
    "    plt.imshow(cm, interpolation='nearest', cmap=plt.cm.Wistia)\n",
    "    classNames = ['Negative','Positive']\n",
    "    plt.title(model+': Subscribed or Not Subscribed Confusion Matrix - Test Data')\n",
    "    plt.ylabel('True label')\n",
    "    plt.xlabel('Predicted label')\n",
    "    tick_marks = np.arange(len(classNames))\n",
    "    plt.xticks(tick_marks, classNames, rotation=45)\n",
    "    plt.yticks(tick_marks, classNames)\n",
    "    s = [['TN','FP'], ['FN', 'TP']]\n",
    "    for i in range(2):\n",
    "        for j in range(2):\n",
    "            plt.text(j,i, str(s[i][j])+\" = \"+str(cm[i][j]))\n",
    "    plt.show()\n"
   ]
  },
  {
   "cell_type": "markdown",
   "metadata": {},
   "source": [
    "**Logistic Regression**"
   ]
  },
  {
   "cell_type": "code",
   "execution_count": 39,
   "metadata": {},
   "outputs": [
    {
     "name": "stdout",
     "output_type": "stream",
     "text": [
      "Training Accuracy Score : 0.9178193335880863\n",
      "Test Accuracy Score : 0.882261869654969\n"
     ]
    }
   ],
   "source": [
    "lr_clf_cv = lr_clf.fit(X_train, y_train)\n",
    "print('Training Accuracy Score :',np.average(lr_training_scores) )\n",
    "print('Test Accuracy Score :', accuracy_score(y_test,lr_clf_cv.predict(X_test)) )"
   ]
  },
  {
   "cell_type": "code",
   "execution_count": 40,
   "metadata": {},
   "outputs": [
    {
     "data": {
      "image/png": "[encoded data removed]",
      "text/plain": [
       "<Figure size 504x504 with 1 Axes>"
      ]
     },
     "metadata": {},
     "output_type": "display_data"
    }
   ],
   "source": [
    "plot_confusionMat(lr_clf_cv, 'Logistic Regression')"
   ]
  },
  {
   "cell_type": "markdown",
   "metadata": {},
   "source": [
    "**Random Forest**"
   ]
  },
  {
   "cell_type": "code",
   "execution_count": 41,
   "metadata": {},
   "outputs": [
    {
     "name": "stdout",
     "output_type": "stream",
     "text": [
      "Training Accuracy Score : 0.9099258269408054\n",
      "Test Accuracy Score : 0.8685491005603067\n"
     ]
    }
   ],
   "source": [
    "rf_clf_cv = rf_clf.fit(X_train, y_train)\n",
    "print('Training Accuracy Score :',np.average(rf_training_scores) )\n",
    "print('Test Accuracy Score :', accuracy_score(y_test,rf_clf_cv.predict(X_test)) )"
   ]
  },
  {
   "cell_type": "code",
   "execution_count": 42,
   "metadata": {},
   "outputs": [
    {
     "data": {
      "image/png": "[encoded data removed]",
      "text/plain": [
       "<Figure size 504x504 with 1 Axes>"
      ]
     },
     "metadata": {},
     "output_type": "display_data"
    }
   ],
   "source": [
    "plot_confusionMat(rf_clf_cv, 'Random Forest')"
   ]
  },
  {
   "cell_type": "markdown",
   "metadata": {},
   "source": [
    "**Training vs Test accuracy Summary**"
   ]
  },
  {
   "cell_type": "markdown",
   "metadata": {},
   "source": [
    "|Model|Training Accuracy|Testing Accuracy|\n",
    "|-----|-----|----|\n",
    "|Logistic Regression|92.67%|89.5%|\n",
    "|Random Forest|91.15%|86.61%|"
   ]
  },
  {
   "cell_type": "markdown",
   "metadata": {},
   "source": [
    "Test accuracies are slightly lower than training accuracies for both logistic regression indicating potential over fitting."
   ]
  },
  {
   "cell_type": "markdown",
   "metadata": {},
   "source": [
    "<div class=\"alert alert-info\"><h3>\n",
    "Conclusion<a class=\"anchor\" id=\"conclusion\"></a>\n",
    "</h3></div>\n",
    "\n",
    "\n",
    "**Recommendations:**  Longer duration, contacts via a cellular phone, contacts without an existing loan, and prior campaign success were the most significant variables in predicting a subscription success. It is recommended to expand on techniques to extend the duration of the conversation; to increase contact with people that had cellular phone (more time to talk); to focus on those that do not have a loan with bank (perhaps extra cash to subscribe); and finally, to find more contacts where the prior campaign was successful (there were only contacted 75 individuals with a prior successful “poutcome” in the training set).\n"
   ]
  },
  {
   "cell_type": "markdown",
   "metadata": {},
   "source": [
    "<div class=\"alert alert-info\"><h3>\n",
    "Reference<a class=\"anchor\" id=\"reference\"></a>\n",
    "</h3></div>"
   ]
  },
  {
   "cell_type": "markdown",
   "metadata": {},
   "source": [
    "1. UC Irvine Machine Learning Repository\n",
    "2. [Moro et al., 2014] S. Moro, P. Cortez and P. Rita. A Data-Driven Approach to Predict the Success of Bank Telemarketing. Decision Support Systems, Elsevier, 62:22-31, June 2014\n",
    "3. http://www.columbia.edu/~jc4133/ADA-Project.pdf"
   ]
  },
  {
   "cell_type": "code",
   "execution_count": null,
   "metadata": {},
   "outputs": [],
   "source": []
  }
 ],
 "metadata": {
  "kernelspec": {
   "display_name": "Python 3",
   "language": "python",
   "name": "python3"
  },
  "language_info": {
   "codemirror_mode": {
    "name": "ipython",
    "version": 3
   },
   "file_extension": ".py",
   "mimetype": "text/x-python",
   "name": "python",
   "nbconvert_exporter": "python",
   "pygments_lexer": "ipython3",
   "version": "3.6.6"
  }
 },
 "nbformat": 4,
 "nbformat_minor": 2
}
